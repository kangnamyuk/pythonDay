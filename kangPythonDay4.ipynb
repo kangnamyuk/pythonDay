{
  "nbformat": 4,
  "nbformat_minor": 0,
  "metadata": {
    "colab": {
      "provenance": [],
      "authorship_tag": "ABX9TyPcqRRIvVuT8DDlYtq6sPPq",
      "include_colab_link": true
    },
    "kernelspec": {
      "name": "python3",
      "display_name": "Python 3"
    },
    "language_info": {
      "name": "python"
    }
  },
  "cells": [
    {
      "cell_type": "markdown",
      "metadata": {
        "id": "view-in-github",
        "colab_type": "text"
      },
      "source": [
        "<a href=\"https://colab.research.google.com/github/kangnamyuk/pythonDay/blob/main/kangPythonDay4.ipynb\" target=\"_parent\"><img src=\"https://colab.research.google.com/assets/colab-badge.svg\" alt=\"Open In Colab\"/></a>"
      ]
    },
    {
      "cell_type": "code",
      "execution_count": null,
      "metadata": {
        "colab": {
          "base_uri": "https://localhost:8080/"
        },
        "id": "rhJ4WYhXRuvS",
        "outputId": "5a23e9f4-b4ab-4cc1-c24c-c94aa11c2aa5"
      },
      "outputs": [
        {
          "output_type": "stream",
          "name": "stdout",
          "text": [
            "현재시간을 입력하세요 >02:00\n",
            "정각입니다.\n"
          ]
        }
      ],
      "source": [
        "####################### IF ####################################\n",
        "# 1. 사용자로부터 입력 받은 시간이 정각인지를 판별하세요\n",
        "\n",
        "# 02:00  정각입니다.\n",
        "# 02:10  정각이 아닙니다.\n",
        "# 11:23  정각이 아닙니다.\n",
        "\n",
        "# Hint - 항상 정각은 끝에 두자리가 00으로 끝난다.\n",
        "\n",
        "time = input(\"현재시간을 입력하세요 >\")\n",
        "\n",
        "if time[-2:] == \"00\":\n",
        "  print(\"정각입니다.\")\n",
        "else:\n",
        "  print(\"정각이 아닙니다.\")"
      ]
    },
    {
      "cell_type": "code",
      "source": [
        "#슬라이싱\n",
        "\n",
        "txt = \"i love you\"\n",
        "\n",
        "txt[0:6]\n",
        "\n",
        "txt[-1]\n",
        "\n",
        "txt[-2:]"
      ],
      "metadata": {
        "colab": {
          "base_uri": "https://localhost:8080/",
          "height": 35
        },
        "id": "ai--W9eSS8k6",
        "outputId": "0839079f-2545-4954-d76f-dc08c991190a"
      },
      "execution_count": null,
      "outputs": [
        {
          "output_type": "execute_result",
          "data": {
            "text/plain": [
              "'ou'"
            ],
            "application/vnd.google.colaboratory.intrinsic+json": {
              "type": "string"
            }
          },
          "metadata": {},
          "execution_count": 2
        }
      ]
    },
    {
      "cell_type": "code",
      "source": [
        "# 2 \n",
        "\n",
        "warn_investment_list = [\"Microsoft\", \"Google\", \"Naver\", \"Kakao\", \"SAMSUNG\", \"LG\"]\n",
        "\n",
        "a = input(\"종목 입력 >\")\n",
        "\n",
        "if a in warn_investment_list:\n",
        "  print(\"투자 경고 종목입니다.\")\n",
        "else:\n",
        "  print(\"투자 경고 종목이 아닙니다.\")\n",
        "\n",
        "  #Hint : in 연산자"
      ],
      "metadata": {
        "colab": {
          "base_uri": "https://localhost:8080/"
        },
        "id": "h2K-dMyrTaI5",
        "outputId": "e849423b-e64b-496b-e459-b05ed812f999"
      },
      "execution_count": null,
      "outputs": [
        {
          "output_type": "stream",
          "name": "stdout",
          "text": [
            "종목 입력 >Google\n",
            "투자 경고 종목입니다.\n"
          ]
        }
      ]
    },
    {
      "cell_type": "code",
      "source": [
        "# 3\n",
        "\n",
        "txt = input(\"한 글자만 입력하세요 >\")\n",
        "\n",
        "if txt.islower():\n",
        "  print(txt.upper())\n",
        "else:\n",
        "  print(txt.lower())\n",
        "  \n",
        "\n",
        "# Hint : .lower()    .upper()"
      ],
      "metadata": {
        "colab": {
          "base_uri": "https://localhost:8080/"
        },
        "id": "RD2DyCtUYxRx",
        "outputId": "8c4eedd3-5925-4170-9086-e1aa8a367b2f"
      },
      "execution_count": null,
      "outputs": [
        {
          "output_type": "stream",
          "name": "stdout",
          "text": [
            "한 글자만 입력하세요 >S\n",
            "s\n"
          ]
        }
      ]
    },
    {
      "cell_type": "code",
      "source": [
        "# 4\n",
        "\n",
        "a = int(input(\"학생의 점수를 입력하세요 > \"))\n",
        "\n",
        "if a >= 90:\n",
        "  grade = 'A'\n",
        "elif a >= 80:\n",
        "  grade = 'B'\n",
        "elif a >= 70:\n",
        "  grade = 'C'\n",
        "elif a >= 60:\n",
        "  grade = 'D'\n",
        "else:\n",
        "  grade = 'F'\n",
        "\n",
        "b = a % 10\n",
        "\n",
        "if 0 <= b <= 3:\n",
        "  grade2 = '-'\n",
        "elif 4<= b <= 6:\n",
        "  grade2 = '0'\n",
        "else:\n",
        "  grade2 = '+'\n",
        "\n",
        "if grade == 'F':\n",
        "  grade3 = grade\n",
        "elif grade =='A' and b == 0:\n",
        "  grade3 = grade + '+'\n",
        "else:\n",
        "  grade3 = grade + grade2\n",
        "\n",
        "print(f'입력하신 학생의 학점은 {grade3}입니다.')\n",
        "\n"
      ],
      "metadata": {
        "colab": {
          "base_uri": "https://localhost:8080/"
        },
        "id": "gugAn4nTYzzf",
        "outputId": "8187f009-7523-4de8-d73b-3317bffff39a"
      },
      "execution_count": null,
      "outputs": [
        {
          "output_type": "stream",
          "name": "stdout",
          "text": [
            "학생의 점수를 입력하세요 > 68\n",
            "입력하신 학생의 학점은 D+입니다.\n"
          ]
        }
      ]
    },
    {
      "cell_type": "code",
      "source": [
        "####################### For ####################################\n",
        "\n",
        "# 5\n",
        "list = [ 3, -20, -3, 44]\n",
        "for i in list:\n",
        "  if i < 0:\n",
        "    print(i)"
      ],
      "metadata": {
        "colab": {
          "base_uri": "https://localhost:8080/"
        },
        "id": "0zvwzR39Yz9Q",
        "outputId": "f14a4a1c-2e51-40fa-959e-0831de01e5b8"
      },
      "execution_count": null,
      "outputs": [
        {
          "output_type": "stream",
          "name": "stdout",
          "text": [
            "-20\n",
            "-3\n"
          ]
        }
      ]
    },
    {
      "cell_type": "code",
      "source": [
        "# 6\n",
        "\n",
        "list = [3,100,23,44,6,9]\n",
        "\n",
        "for i in list :\n",
        "  if i % 3 == 0 :\n",
        "    print(i)"
      ],
      "metadata": {
        "colab": {
          "base_uri": "https://localhost:8080/"
        },
        "id": "CF8asuJUY0GM",
        "outputId": "71833c15-66de-4ea6-e4c4-bb0fb0a29abd"
      },
      "execution_count": null,
      "outputs": [
        {
          "output_type": "stream",
          "name": "stdout",
          "text": [
            "3\n",
            "6\n",
            "9\n"
          ]
        }
      ]
    },
    {
      "cell_type": "code",
      "source": [
        "# 7 \n",
        "\n",
        "list = [\"I\", \"study\", \"python\", \"language\", \"!\"]\n",
        "for i in list:\n",
        "  if len(i) >= 3:\n",
        "    print(i)\n",
        "\n",
        "# hint : len()"
      ],
      "metadata": {
        "colab": {
          "base_uri": "https://localhost:8080/"
        },
        "id": "iRs2Wg7HfTNH",
        "outputId": "2a3a730d-626d-490f-f86f-af1d97df8533"
      },
      "execution_count": null,
      "outputs": [
        {
          "output_type": "stream",
          "name": "stdout",
          "text": [
            "study\n",
            "python\n",
            "language\n"
          ]
        }
      ]
    },
    {
      "cell_type": "code",
      "source": [
        "# 8 for 문을 사용하여 대문자만을 출력하라\n",
        "\n",
        "list = [\"A\", \"b\", \"c\", \"D\"]\n",
        "\n",
        "for i in list :\n",
        "  if i == i.upper() :\n",
        "    print(i)"
      ],
      "metadata": {
        "id": "594UA5SlfTVl"
      },
      "execution_count": null,
      "outputs": []
    },
    {
      "cell_type": "code",
      "source": [
        "# 9\n",
        "\n",
        "l1 = ['dog', 'cat', 'parrot']\n",
        "\n",
        "for i in l1:\n",
        "  c1 = i[0]   # 인덱싱 첫글자\n",
        "  c2 = c1.upper()\n",
        "  print(c2 + i[1:])"
      ],
      "metadata": {
        "colab": {
          "base_uri": "https://localhost:8080/"
        },
        "id": "t-aaTy0CfTa0",
        "outputId": "dd8ac536-6782-44d8-c31c-f22af33cdb20"
      },
      "execution_count": null,
      "outputs": [
        {
          "output_type": "stream",
          "name": "stdout",
          "text": [
            "Dog\n",
            "Cat\n",
            "Parrot\n"
          ]
        }
      ]
    },
    {
      "cell_type": "code",
      "source": [
        "l1 = ['dog', 'cat', 'parrot']\n",
        "\n",
        "for i in l1:\n",
        "  print(i[0].upper() + i[1:])"
      ],
      "metadata": {
        "colab": {
          "base_uri": "https://localhost:8080/"
        },
        "id": "pL92ZGRKfTfC",
        "outputId": "2c39deb8-0f88-486e-835b-4c15e5f6e4f2"
      },
      "execution_count": null,
      "outputs": [
        {
          "output_type": "stream",
          "name": "stdout",
          "text": [
            "Dog\n",
            "Cat\n",
            "Parrot\n"
          ]
        }
      ]
    },
    {
      "cell_type": "code",
      "source": [
        "# 10\n",
        "\n",
        "\n",
        "for i in ['hello.py', 'ex01.py', 'intro.hwp']:\n",
        "  print(i.split('.')[0])"
      ],
      "metadata": {
        "colab": {
          "base_uri": "https://localhost:8080/"
        },
        "id": "Fs5xZNFviyYd",
        "outputId": "dcb91706-e70d-4e32-bc5b-6599e33529e8"
      },
      "execution_count": null,
      "outputs": [
        {
          "output_type": "stream",
          "name": "stdout",
          "text": [
            "hello\n",
            "ex01\n",
            "intro\n"
          ]
        }
      ]
    },
    {
      "cell_type": "code",
      "source": [
        "# 11\n",
        "\n",
        "sum = 0\n",
        "for i in range(1, 11):\n",
        "  if i % 2 == 1:\n",
        "    sum += i\n",
        "print(sum)"
      ],
      "metadata": {
        "colab": {
          "base_uri": "https://localhost:8080/"
        },
        "id": "2cQ4ZhWuiyiJ",
        "outputId": "c50c0db3-dace-4c4b-fdf8-299c77057f77"
      },
      "execution_count": null,
      "outputs": [
        {
          "output_type": "stream",
          "name": "stdout",
          "text": [
            "25\n"
          ]
        }
      ]
    },
    {
      "cell_type": "code",
      "source": [
        "# 12\n",
        "\n",
        "\n",
        "my_list = [\"가\", \"나\", \"다\", \"라\"]\n",
        "\n",
        "print(my_list[3], my_list[2])\n",
        "print(my_list[2], my_list[1])\n",
        "print(my_list[1], my_list[0])"
      ],
      "metadata": {
        "colab": {
          "base_uri": "https://localhost:8080/"
        },
        "id": "ulhIf_qtiytT",
        "outputId": "9a10324e-3cfa-4baa-ee75-f8cd55cc6aa5"
      },
      "execution_count": null,
      "outputs": [
        {
          "output_type": "stream",
          "name": "stdout",
          "text": [
            "라 다\n",
            "다 나\n",
            "나 가\n"
          ]
        }
      ]
    },
    {
      "cell_type": "code",
      "source": [
        "my_list = [\"가\", \"나\", \"다\", \"라\"]\n",
        "\n",
        "print(my_list[3], my_list[2])\n",
        "print(my_list[2], my_list[1])\n",
        "print(my_list[1], my_list[0])"
      ],
      "metadata": {
        "id": "yGkKhm5ro5I0"
      },
      "execution_count": null,
      "outputs": []
    },
    {
      "cell_type": "code",
      "source": [
        "my_list = [\"가\", \"나\", \"다\", \"라\"]\n",
        "\n",
        "for i in [3,2,1]:\n",
        "  print(my_list[i], my_list[i-1])"
      ],
      "metadata": {
        "colab": {
          "base_uri": "https://localhost:8080/"
        },
        "id": "rtmjLLdbo5Q4",
        "outputId": "b3ae3b37-b68c-4f50-9f13-293f013d9bfd"
      },
      "execution_count": null,
      "outputs": [
        {
          "output_type": "stream",
          "name": "stdout",
          "text": [
            "라 다\n",
            "다 나\n",
            "나 가\n"
          ]
        }
      ]
    },
    {
      "cell_type": "code",
      "source": [
        "list = [\"가\", \"나\", \"다\", \"라\"]\n",
        "for i in range(len(list)-1, 0, -1):\n",
        "  print(list[i], list[i-1])"
      ],
      "metadata": {
        "colab": {
          "base_uri": "https://localhost:8080/"
        },
        "id": "a27M8P33o5WT",
        "outputId": "14543e34-a1a2-4dfb-9778-893c8364f94b"
      },
      "execution_count": null,
      "outputs": [
        {
          "output_type": "stream",
          "name": "stdout",
          "text": [
            "라 다\n",
            "다 나\n",
            "나 가\n"
          ]
        }
      ]
    },
    {
      "cell_type": "code",
      "source": [
        "# 13\n",
        "\n",
        "ohlc = [[\"open\", \"high\", \"low\", \"close\"],\n",
        "        [100, 110, 70, 100],\n",
        "        [200, 210, 180, 190],\n",
        "        [300, 310, 300, 310]]\n",
        "\n",
        "\n",
        "for i in (range(1,len(ohlc))):\n",
        "  print(ohlc[i][3])"
      ],
      "metadata": {
        "colab": {
          "base_uri": "https://localhost:8080/"
        },
        "id": "TDqyKsXupAVY",
        "outputId": "bbdad552-bacb-424c-effb-8564343965cc"
      },
      "execution_count": null,
      "outputs": [
        {
          "output_type": "stream",
          "name": "stdout",
          "text": [
            "100\n",
            "190\n",
            "310\n"
          ]
        }
      ]
    },
    {
      "cell_type": "code",
      "source": [
        "total = 0\n",
        "while total <= 50:\n",
        "  total += int(input('더할 수 입력 : '))\n",
        "print(total)"
      ],
      "metadata": {
        "colab": {
          "base_uri": "https://localhost:8080/"
        },
        "id": "nNwyMRO5pAdS",
        "outputId": "5e0a68ee-4cde-4929-ebe6-9bb7bb341880"
      },
      "execution_count": null,
      "outputs": [
        {
          "output_type": "stream",
          "name": "stdout",
          "text": [
            "더할 수 입력 : 10\n",
            "더할 수 입력 : 10\n",
            "더할 수 입력 : 10\n",
            "더할 수 입력 : 20\n",
            "더할 수 입력 : 20\n",
            "70\n"
          ]
        }
      ]
    },
    {
      "cell_type": "code",
      "source": [
        "# 사용자에게 번호를 입력받기\n",
        "num = 0\n",
        "while num <= 5 :\n",
        "   num = int(input(\"숫자를 입력하세요\"))\n",
        "print(f'당신이 입력한 숫자는{num} 입니다')"
      ],
      "metadata": {
        "colab": {
          "base_uri": "https://localhost:8080/"
        },
        "id": "nMdLEga9uf0S",
        "outputId": "adaa102c-9f5e-4c68-db76-004adabdd4b4"
      },
      "execution_count": null,
      "outputs": [
        {
          "output_type": "stream",
          "name": "stdout",
          "text": [
            "숫자를 입력하세요6\n",
            "당신이 입력한 숫자는6 입니다\n"
          ]
        }
      ]
    },
    {
      "cell_type": "code",
      "source": [
        "# 16\n",
        "\n",
        "\n",
        "a = 0\n",
        "while True:\n",
        "    a = int(input(\"10 ~ 20 숫자 입력 > \"))\n",
        "    if a > 20:\n",
        "        print(\"Too high\")\n",
        "    elif a < 10:\n",
        "        print(\"Too low\")\n",
        "    else:\n",
        "        print(\"Thank you\")\n",
        "        break"
      ],
      "metadata": {
        "colab": {
          "base_uri": "https://localhost:8080/"
        },
        "id": "flU_azesugCV",
        "outputId": "43bd9cb1-8263-48af-a75a-48049d96d473"
      },
      "execution_count": null,
      "outputs": [
        {
          "output_type": "stream",
          "name": "stdout",
          "text": [
            "10 ~ 20 숫자 입력 > 3\n",
            "Too low\n",
            "10 ~ 20 숫자 입력 > 40\n",
            "Too high\n",
            "10 ~ 20 숫자 입력 > 33\n",
            "Too high\n",
            "10 ~ 20 숫자 입력 > 11\n",
            "Thank you\n"
          ]
        }
      ]
    },
    {
      "cell_type": "code",
      "source": [
        "#17\n",
        "\n",
        "import random\n",
        "\n",
        "compnum = random.randrange(1, 101)\n",
        "count = 0\n",
        "while True:\n",
        "    a = int(input(\"1 ~ 100 숫자 입력 > \"))\n",
        "    if a > compnum:\n",
        "        print(\"Too high\")\n",
        "        count += 1\n",
        "    elif a < compnum:\n",
        "        print(\"Too low\")\n",
        "        count += 1\n",
        "    else:\n",
        "        print(f\"Well done. you took {count} attempts\")\n",
        "        break"
      ],
      "metadata": {
        "id": "Wnaq30SJvorV"
      },
      "execution_count": null,
      "outputs": []
    },
    {
      "cell_type": "code",
      "source": [
        "num = 10\n",
        "\n",
        "print(f\"There are {num} green bottles hanging on the wall, {num} green bottles hanging on the wall, and if 1 green bottle sould accidentally fall.\")\n",
        "num -= 1\n",
        "while num >= 0:\n",
        "  bottle = int(input(\"How many green bottles will be hanging on the wall? > \"))\n",
        "  if num == bottle :\n",
        "    print(f\"There will be {num} green bottles hanging on the wall\")\n",
        "  else :\n",
        "    print(\"No, try again\")\n",
        "    continue;\n",
        "  print(f\"There are {num} green bottles hanging on the wall, {num} green bottles hanging on the wall, and if 1 green bottle sould accidentally fall.\")\n",
        "  num -= 1\n",
        "print(\"There are no more green bottles hanging on the wall\")"
      ],
      "metadata": {
        "colab": {
          "base_uri": "https://localhost:8080/",
          "height": 650
        },
        "id": "zsOu1iUpvo0Z",
        "outputId": "df3ff420-c729-4623-ba9b-54ba75af2c39"
      },
      "execution_count": null,
      "outputs": [
        {
          "metadata": {
            "tags": null
          },
          "name": "stdout",
          "output_type": "stream",
          "text": [
            "There are 10 green bottles hanging on the wall, 10 green bottles hanging on the wall, and if 1 green bottle sould accidentally fall.\n",
            "No, try again\n",
            "No, try again\n",
            "No, try again\n",
            "No, try again\n",
            "There will be 9 green bottles hanging on the wall\n",
            "There are 9 green bottles hanging on the wall, 9 green bottles hanging on the wall, and if 1 green bottle sould accidentally fall.\n",
            "There will be 8 green bottles hanging on the wall\n",
            "There are 8 green bottles hanging on the wall, 8 green bottles hanging on the wall, and if 1 green bottle sould accidentally fall.\n",
            "There will be 7 green bottles hanging on the wall\n",
            "There are 7 green bottles hanging on the wall, 7 green bottles hanging on the wall, and if 1 green bottle sould accidentally fall.\n",
            "No, try again\n",
            "There will be 6 green bottles hanging on the wall\n",
            "There are 6 green bottles hanging on the wall, 6 green bottles hanging on the wall, and if 1 green bottle sould accidentally fall.\n"
          ]
        },
        {
          "output_type": "error",
          "ename": "KeyboardInterrupt",
          "evalue": "ignored",
          "traceback": [
            "\u001b[0;31m---------------------------------------------------------------------------\u001b[0m",
            "\u001b[0;31mKeyboardInterrupt\u001b[0m                         Traceback (most recent call last)",
            "\u001b[0;32m<ipython-input-25-fb722404d027>\u001b[0m in \u001b[0;36m<module>\u001b[0;34m\u001b[0m\n\u001b[1;32m      4\u001b[0m \u001b[0mnum\u001b[0m \u001b[0;34m-=\u001b[0m \u001b[0;36m1\u001b[0m\u001b[0;34m\u001b[0m\u001b[0;34m\u001b[0m\u001b[0m\n\u001b[1;32m      5\u001b[0m \u001b[0;32mwhile\u001b[0m \u001b[0mnum\u001b[0m \u001b[0;34m>=\u001b[0m \u001b[0;36m0\u001b[0m\u001b[0;34m:\u001b[0m\u001b[0;34m\u001b[0m\u001b[0;34m\u001b[0m\u001b[0m\n\u001b[0;32m----> 6\u001b[0;31m   \u001b[0mbottle\u001b[0m \u001b[0;34m=\u001b[0m \u001b[0mint\u001b[0m\u001b[0;34m(\u001b[0m\u001b[0minput\u001b[0m\u001b[0;34m(\u001b[0m\u001b[0;34m\"How many green bottles will be hanging on the wall? > \"\u001b[0m\u001b[0;34m)\u001b[0m\u001b[0;34m)\u001b[0m\u001b[0;34m\u001b[0m\u001b[0;34m\u001b[0m\u001b[0m\n\u001b[0m\u001b[1;32m      7\u001b[0m   \u001b[0;32mif\u001b[0m \u001b[0mnum\u001b[0m \u001b[0;34m==\u001b[0m \u001b[0mbottle\u001b[0m \u001b[0;34m:\u001b[0m\u001b[0;34m\u001b[0m\u001b[0;34m\u001b[0m\u001b[0m\n\u001b[1;32m      8\u001b[0m     \u001b[0mprint\u001b[0m\u001b[0;34m(\u001b[0m\u001b[0;34mf\"There will be {num} green bottles hanging on the wall\"\u001b[0m\u001b[0;34m)\u001b[0m\u001b[0;34m\u001b[0m\u001b[0;34m\u001b[0m\u001b[0m\n",
            "\u001b[0;32m/usr/local/lib/python3.8/dist-packages/ipykernel/kernelbase.py\u001b[0m in \u001b[0;36mraw_input\u001b[0;34m(self, prompt)\u001b[0m\n\u001b[1;32m    858\u001b[0m                 \u001b[0;34m\"raw_input was called, but this frontend does not support input requests.\"\u001b[0m\u001b[0;34m\u001b[0m\u001b[0;34m\u001b[0m\u001b[0m\n\u001b[1;32m    859\u001b[0m             )\n\u001b[0;32m--> 860\u001b[0;31m         return self._input_request(str(prompt),\n\u001b[0m\u001b[1;32m    861\u001b[0m             \u001b[0mself\u001b[0m\u001b[0;34m.\u001b[0m\u001b[0m_parent_ident\u001b[0m\u001b[0;34m,\u001b[0m\u001b[0;34m\u001b[0m\u001b[0;34m\u001b[0m\u001b[0m\n\u001b[1;32m    862\u001b[0m             \u001b[0mself\u001b[0m\u001b[0;34m.\u001b[0m\u001b[0m_parent_header\u001b[0m\u001b[0;34m,\u001b[0m\u001b[0;34m\u001b[0m\u001b[0;34m\u001b[0m\u001b[0m\n",
            "\u001b[0;32m/usr/local/lib/python3.8/dist-packages/ipykernel/kernelbase.py\u001b[0m in \u001b[0;36m_input_request\u001b[0;34m(self, prompt, ident, parent, password)\u001b[0m\n\u001b[1;32m    902\u001b[0m             \u001b[0;32mexcept\u001b[0m \u001b[0mKeyboardInterrupt\u001b[0m\u001b[0;34m:\u001b[0m\u001b[0;34m\u001b[0m\u001b[0;34m\u001b[0m\u001b[0m\n\u001b[1;32m    903\u001b[0m                 \u001b[0;31m# re-raise KeyboardInterrupt, to truncate traceback\u001b[0m\u001b[0;34m\u001b[0m\u001b[0;34m\u001b[0m\u001b[0;34m\u001b[0m\u001b[0m\n\u001b[0;32m--> 904\u001b[0;31m                 \u001b[0;32mraise\u001b[0m \u001b[0mKeyboardInterrupt\u001b[0m\u001b[0;34m(\u001b[0m\u001b[0;34m\"Interrupted by user\"\u001b[0m\u001b[0;34m)\u001b[0m \u001b[0;32mfrom\u001b[0m \u001b[0;32mNone\u001b[0m\u001b[0;34m\u001b[0m\u001b[0;34m\u001b[0m\u001b[0m\n\u001b[0m\u001b[1;32m    905\u001b[0m             \u001b[0;32mexcept\u001b[0m \u001b[0mException\u001b[0m \u001b[0;32mas\u001b[0m \u001b[0me\u001b[0m\u001b[0;34m:\u001b[0m\u001b[0;34m\u001b[0m\u001b[0;34m\u001b[0m\u001b[0m\n\u001b[1;32m    906\u001b[0m                 \u001b[0mself\u001b[0m\u001b[0;34m.\u001b[0m\u001b[0mlog\u001b[0m\u001b[0;34m.\u001b[0m\u001b[0mwarning\u001b[0m\u001b[0;34m(\u001b[0m\u001b[0;34m\"Invalid Message:\"\u001b[0m\u001b[0;34m,\u001b[0m \u001b[0mexc_info\u001b[0m\u001b[0;34m=\u001b[0m\u001b[0;32mTrue\u001b[0m\u001b[0;34m)\u001b[0m\u001b[0;34m\u001b[0m\u001b[0;34m\u001b[0m\u001b[0m\n",
            "\u001b[0;31mKeyboardInterrupt\u001b[0m: Interrupted by user"
          ]
        }
      ]
    }
  ]
}