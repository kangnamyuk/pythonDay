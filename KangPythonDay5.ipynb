{
  "nbformat": 4,
  "nbformat_minor": 0,
  "metadata": {
    "colab": {
      "provenance": [],
      "authorship_tag": "ABX9TyNwoXWvXOfLp4igm/7r6cZz",
      "include_colab_link": true
    },
    "kernelspec": {
      "name": "python3",
      "display_name": "Python 3"
    },
    "language_info": {
      "name": "python"
    }
  },
  "cells": [
    {
      "cell_type": "markdown",
      "metadata": {
        "id": "view-in-github",
        "colab_type": "text"
      },
      "source": [
        "<a href=\"https://colab.research.google.com/github/kangnamyuk/pythonDay/blob/main/KangPythonDay5.ipynb\" target=\"_parent\"><img src=\"https://colab.research.google.com/assets/colab-badge.svg\" alt=\"Open In Colab\"/></a>"
      ]
    },
    {
      "cell_type": "code",
      "execution_count": null,
      "metadata": {
        "id": "Ez_oEawnZCcl"
      },
      "outputs": [],
      "source": [
        "# Function\n",
        "\n",
        "# 자바에서는 오히려 함수가 존재하지 않는다. 대신에 매서드를 사용한다. \n",
        "# 사실 거의 같지만 매서드는 클래스 내부에서 정의 된다. \n",
        "# 자바는 클래스 밖이라는 개념이 존재하지 않기 때문에 함수가 없다. \n",
        "\n",
        "# 파이썬은 클래스 밖의 개념과 클래스 안의 개념이 다 존재하기 때문에\n",
        "# 함수도 매서드도 모두 사용된다. \n",
        "\n",
        "# 함수란?\n",
        "\n",
        "# 믹서기에 딸기를 넣으면 딸기 주스가 바나나를 넣으면 바나나 주스가 만들어진다. \n",
        "# 함수도 이와 같이 입력 값에 따라 다른 실행 결과를 내보낸다. \n",
        "# 특히 파이썬도 자바와 같이 (매서드) 함수를 중요하게 많이 사용된다. \n",
        "\n",
        "# 왜?\n",
        "# 프로그래밍을 하다보면 같은 내용을 반복해서 실행 시켜야 할 부분이 상당히 많아진다. \n",
        "# 그때마다 새롭게 만들어서 사용하는 것이 아니라 한번 범용적으로 만들어서 \n",
        "# 필요할 때마다 호출하여 사용하면 프로그램의 흐름도 잘 파악할수 있고 오류가 어디서\n",
        "# 발생하는지도 쉽게 찾을 수 있다. \n",
        "\n"
      ]
    },
    {
      "cell_type": "code",
      "source": [
        "# def 함수명():\n",
        "#   수행구문1\n",
        "#   수행구문2\n",
        "\n",
        "# 함수 정의\n",
        "def add(a,b):\n",
        "  return a+b\n",
        "\n",
        "# 함수 호출\n",
        "print(add(1,2))\n",
        "print(add(3,5))\n"
      ],
      "metadata": {
        "colab": {
          "base_uri": "https://localhost:8080/"
        },
        "id": "q6KF9DD3s2gk",
        "outputId": "5ae4c0af-e60a-4d61-9277-4da66f920b86"
      },
      "execution_count": null,
      "outputs": [
        {
          "output_type": "stream",
          "name": "stdout",
          "text": [
            "3\n",
            "8\n"
          ]
        }
      ]
    },
    {
      "cell_type": "code",
      "source": [
        "# 매개변수와 인수  (객체와 인스턴스 / 매서드와 함수, 파라미터 와 옵션)\n",
        "# 매개변수와 인수는 혼용하여 사용되는 조금 헷갈릴수 있는 용어이다. \n",
        "\n",
        "# 매개변수는 함수에 입력으로 전달 된 값을 받는 변수를 의미하고\n",
        "# 인수는 함수를 호출할때 전달하는 입력 값을 의미한다. \n",
        "\n",
        "def add(a,b):  # a,b 매개변수\n",
        "  return a+b\n",
        "\n",
        "print(add(1,2))# 1,2 인수 (진짜 값)\n",
        "print(add(3,5))# 3,5 인수"
      ],
      "metadata": {
        "id": "PQkktfJKs2kF"
      },
      "execution_count": null,
      "outputs": []
    },
    {
      "cell_type": "code",
      "source": [
        "# 함수의 4가지 형태\n",
        "\n",
        "# 1. input값과 output값이 모두 존재하는 함수 (*****)\n",
        "# 2. input값이 없고 output값만 존재하는 함수\n",
        "# 3. input값은 있고 output값은 존재하지 않는 함수\n",
        "# 4. input값도 없고 output값도 없는 함수\n",
        "\n",
        "\n",
        "# 1. input값과 output값이 모두 존재하는 함수 (*****)\n",
        "# 함수 정의\n",
        "def add(a,b):  # input값이 있고\n",
        "  return a+b   # output값도 있다.\n",
        "\n",
        "# 함수 호출\n",
        "print(add(1,2))"
      ],
      "metadata": {
        "colab": {
          "base_uri": "https://localhost:8080/"
        },
        "id": "p0ufUleTs2m3",
        "outputId": "f0927d63-6cd3-40ad-e52a-5639b21263ba"
      },
      "execution_count": null,
      "outputs": [
        {
          "output_type": "stream",
          "name": "stdout",
          "text": [
            "3\n"
          ]
        }
      ]
    },
    {
      "cell_type": "code",
      "source": [
        "# 2. input값이 없고 output값만 존재하는 함수\n",
        "\n",
        "def say():\n",
        "  return 'Hello World'\n",
        "\n",
        "print(say())"
      ],
      "metadata": {
        "colab": {
          "base_uri": "https://localhost:8080/"
        },
        "id": "U-H6ordes2pk",
        "outputId": "9ba85bf9-2b61-4c63-c476-cd9e6403488e"
      },
      "execution_count": null,
      "outputs": [
        {
          "output_type": "stream",
          "name": "stdout",
          "text": [
            "Hello World\n"
          ]
        }
      ]
    },
    {
      "cell_type": "code",
      "source": [
        "# 3. input값은 있고 output값은 존재하지 않는 함수\n",
        "\n",
        "def yesinput(name):\n",
        "  print(name,'님 어서오세요')\n",
        "\n",
        "\n",
        "yesinput('홍길동')"
      ],
      "metadata": {
        "colab": {
          "base_uri": "https://localhost:8080/"
        },
        "id": "I7SpT18xs2sI",
        "outputId": "00669dcc-fcb7-4ccf-f21e-c7922c623a49"
      },
      "execution_count": null,
      "outputs": [
        {
          "output_type": "stream",
          "name": "stdout",
          "text": [
            "홍길동 님 어서오세요\n"
          ]
        }
      ]
    },
    {
      "cell_type": "code",
      "source": [
        "# 4. input값도 없고 output값도 없는 함수\n",
        "\n",
        "def noinnoout():\n",
        "  print('환영합니다.')\n",
        "\n",
        "noinnoout()\n",
        "\n"
      ],
      "metadata": {
        "id": "TR1F7Iw9s2uA"
      },
      "execution_count": null,
      "outputs": []
    },
    {
      "cell_type": "code",
      "source": [
        "# 매개 변수의 수를 알수 없을때, 즉, 몇 개의 매개 변수가 들어올 지 모를때\n",
        "# 가변 매개변수\n",
        "\n",
        "def add2(a,b):\n",
        "  return a+b\n",
        "\n",
        "def add3(a,b,c):\n",
        "  return a+b+c\n",
        "\n",
        "\n",
        "def add(*args):\n",
        "  result = 0\n",
        "  for i in args:\n",
        "    result = result + i\n",
        "  print(result)\n",
        "\n",
        "add(1,2)\n",
        "add(1,2,3)\n",
        "add(1,2,3,4,5,6,7,8)"
      ],
      "metadata": {
        "colab": {
          "base_uri": "https://localhost:8080/"
        },
        "id": "iXRgUE2Ps2v9",
        "outputId": "4436c435-40cd-4f52-b84a-07932b9814b5"
      },
      "execution_count": null,
      "outputs": [
        {
          "output_type": "stream",
          "name": "stdout",
          "text": [
            "3\n",
            "6\n",
            "36\n"
          ]
        }
      ]
    },
    {
      "cell_type": "code",
      "source": [
        "# 함수의 리턴값은 언제나 하나이다. \n",
        "\n",
        "\n",
        "def addmul(a,b):\n",
        "  return a+b\n",
        "  return a*b\n",
        "\n",
        "print(addmul(2,3))\n",
        "\n",
        "def addmul2(a,b):\n",
        "  return a+b, a*b\n",
        "\n",
        "addmul2(2,3)\n",
        "\n",
        "# 결과 값으로 튜플 (5, 6) 출력되었다. 2개가 아닌 튜플 1개로 출력된 것이다. "
      ],
      "metadata": {
        "colab": {
          "base_uri": "https://localhost:8080/"
        },
        "id": "0VgeSdkns2yW",
        "outputId": "bd7f79d5-701c-4925-c4f9-80aaf77f31a1"
      },
      "execution_count": null,
      "outputs": [
        {
          "output_type": "stream",
          "name": "stdout",
          "text": [
            "5\n"
          ]
        },
        {
          "output_type": "execute_result",
          "data": {
            "text/plain": [
              "(5, 6)"
            ]
          },
          "metadata": {},
          "execution_count": 6
        }
      ]
    },
    {
      "cell_type": "code",
      "source": [
        "# 매개 변수에 미리 초기값 설정하기\n",
        "\n",
        "def aboutme(name, age, gender=True):\n",
        "  print(f'나의 이름은 {name}입니다.')\n",
        "  print(f'나이는 {age}살 입니다.')\n",
        "  if gender:\n",
        "    print(f'나의 성별은 남성입니다.')\n",
        "  else:\n",
        "    print(f'나의 설별은 여성입니다.')\n",
        "\n",
        "aboutme(\"송중기\",32, True)\n",
        "aboutme(\"송중기\",32)"
      ],
      "metadata": {
        "colab": {
          "base_uri": "https://localhost:8080/"
        },
        "id": "7dhiydSTs20d",
        "outputId": "605aeaba-fb44-410d-d1d5-2b7b7d840538"
      },
      "execution_count": null,
      "outputs": [
        {
          "output_type": "stream",
          "name": "stdout",
          "text": [
            "나의 이름은 송중기입니다.\n",
            "나이는 32살 입니다.\n",
            "나의 성별은 남성입니다.\n",
            "나의 이름은 송중기입니다.\n",
            "나이는 32살 입니다.\n",
            "나의 성별은 남성입니다.\n"
          ]
        }
      ]
    },
    {
      "cell_type": "code",
      "source": [
        "# 함수 안에서의 변수 효력 범위 (지역변수/전역변수)\n",
        "\n",
        "a = 1\n",
        "\n",
        "def vartest(a):\n",
        "  a += 1   #   2\n",
        "\n",
        "vartest(a)\n",
        "print(a)\n",
        "\n",
        "# 함수 안에서 사용하는 매개변수 a 는 함수 밖의 변수 이름 a 과는 전혀 관련이 없다. "
      ],
      "metadata": {
        "colab": {
          "base_uri": "https://localhost:8080/"
        },
        "id": "l8wJlIIss22j",
        "outputId": "17530302-9e6f-4152-a723-5e55addc667b"
      },
      "execution_count": null,
      "outputs": [
        {
          "output_type": "stream",
          "name": "stdout",
          "text": [
            "1\n"
          ]
        }
      ]
    },
    {
      "cell_type": "code",
      "source": [
        "\n",
        "def vartest(a):\n",
        "  a += 1   #   4\n",
        "\n",
        "vartest(3)\n",
        "print(a)\n",
        "\n",
        "# 위의 셀에서 a를 정의 한 1이 출력 되지만 만약 위 셀이 없다면 \n",
        "# a를 전혀 알수 없기 때문에 예외가 발생하게 된다. \n",
        "\n"
      ],
      "metadata": {
        "colab": {
          "base_uri": "https://localhost:8080/"
        },
        "id": "9bMDIAGAs247",
        "outputId": "d7f9d8ec-609b-4d5b-cd9e-31b827672f9d"
      },
      "execution_count": null,
      "outputs": [
        {
          "output_type": "stream",
          "name": "stdout",
          "text": [
            "1\n"
          ]
        }
      ]
    },
    {
      "cell_type": "code",
      "source": [
        "def vartest(a):\n",
        "  a += 1   #   4\n",
        "  return a\n",
        "\n",
        "print(vartest(3))"
      ],
      "metadata": {
        "colab": {
          "base_uri": "https://localhost:8080/"
        },
        "id": "nkl2i-Uss266",
        "outputId": "4e16e804-9dd5-44ea-8d2a-425ad25a85c9"
      },
      "execution_count": null,
      "outputs": [
        {
          "output_type": "stream",
          "name": "stdout",
          "text": [
            "4\n"
          ]
        }
      ]
    },
    {
      "cell_type": "code",
      "source": [],
      "metadata": {
        "id": "qD2kggsws28x"
      },
      "execution_count": null,
      "outputs": []
    },
    {
      "cell_type": "code",
      "source": [
        "# Class / Object\n",
        "\n",
        "# Object Oriented Programming 객체 지향 프로그래밍 (객체/상속/)\n",
        "\n",
        "# 객체 지향 프로그래밍이 필수는 아니다. 왜 C언어는 객체지향언어가 아니다. \n",
        "\n",
        "# 클래스는 붕어빵 기계 객체는 붕어빵\n",
        "# 클래스는 쿠키틀 객체는 쿠키\n",
        "\n",
        "# 인스턴스와 객체의 차이\n",
        "# 클래스로 만든 객체를 인스턴스라고도 부른다. 그럼 차이가 무엇일까...\n",
        "\n",
        "# a는 쿠키 클래스의 인스턴스이다. \n",
        "# a는 객체이다. \n",
        "\n",
        "# 인스턴스는 클래스와의 관계를 설명할때 사용되고\n",
        "# 객체는 관계 가아닌 그 자체를 설명할때 사용된다. "
      ],
      "metadata": {
        "id": "mEoYZ7vpteWE"
      },
      "execution_count": null,
      "outputs": []
    },
    {
      "cell_type": "code",
      "source": [
        "# 클래스 정의\n",
        "\n",
        "class Cal:\n",
        "  pass\n",
        "\n",
        "# 클래스로 인스턴스 생성\n",
        "a = Cal()"
      ],
      "metadata": {
        "id": "9ME4nDf8tgtl"
      },
      "execution_count": null,
      "outputs": []
    },
    {
      "cell_type": "code",
      "source": [
        "result = 0\n",
        "result2 = 0\n",
        "\n",
        "def add(num):\n",
        "  global result\n",
        "  result += num\n",
        "  return result\n",
        "\n",
        "def add2(num):\n",
        "  global result2\n",
        "  result2 += num\n",
        "  return result2\n",
        "\n",
        "\n",
        "print(add(3))\n",
        "print(add(4))\n",
        "print(add(1))\n",
        "print()\n",
        "print(add2(2))\n",
        "print(add2(1))\n",
        "print(add2(3))\n",
        "\n",
        "# 똑같은 계산을 하는 계산기들이 각각 다른 결과 값을 유지하고 있다. \n",
        "# 계산기 1은 계산기 2에 전혀 영향을 주지 않다. \n",
        "\n",
        "# 하지만 문제는 계산기가 더 필요해진다면 또 같은 계산기들을 만들어야 한다. \n",
        "\n",
        "# 따라서 클래스를 사용하여 계산기를 만들어 보자...\n",
        "\n"
      ],
      "metadata": {
        "colab": {
          "base_uri": "https://localhost:8080/"
        },
        "id": "S-19v3oltgyB",
        "outputId": "7e75a55c-bbc8-4bb6-b6cc-6f543094ed4b"
      },
      "execution_count": null,
      "outputs": [
        {
          "output_type": "stream",
          "name": "stdout",
          "text": [
            "3\n",
            "7\n",
            "8\n",
            "\n",
            "2\n",
            "3\n",
            "6\n"
          ]
        }
      ]
    },
    {
      "cell_type": "code",
      "source": [
        "class Cal:\n",
        "  def __init__(self):   #파이썬에서의 생성자\n",
        "    self.result = 0\n",
        "\n",
        "  def add(self, num):\n",
        "    self.result += num\n",
        "    return self.result\n",
        "\n",
        "\n",
        "cal1 = Cal()    \n",
        "cal2 = Cal()   \n",
        "cal3 = Cal()     \n",
        "\n",
        "print(cal1.add(2))\n",
        "print(cal1.add(1))\n",
        "print(cal1.add(3))\n",
        "print()\n",
        "print(cal2.add(5))\n",
        "print(cal2.add(4))\n",
        "print(cal2.add(1))\n",
        "print()\n",
        "print(cal3.add(2))\n",
        "# 동일한 클래스로 만든 객체들은 각기 다른 특성을 가지게 된다. \n"
      ],
      "metadata": {
        "colab": {
          "base_uri": "https://localhost:8080/"
        },
        "id": "FOeoLOP3tg0X",
        "outputId": "edf09a13-92df-4290-8a7d-6905c5899d33"
      },
      "execution_count": null,
      "outputs": [
        {
          "output_type": "stream",
          "name": "stdout",
          "text": [
            "2\n",
            "3\n",
            "6\n",
            "\n",
            "5\n",
            "9\n",
            "10\n",
            "\n",
            "2\n"
          ]
        }
      ]
    },
    {
      "cell_type": "code",
      "source": [
        "class Cal:\n",
        "  def __init__(self):  \n",
        "    self.result = 0\n",
        "\n",
        "  def add(self, num):\n",
        "    self.result += num\n",
        "    return self.result\n",
        "\n",
        "  def sub(self, num):\n",
        "    self.result -= num\n",
        "    return self.result\n",
        "\n",
        "\n",
        "cal1 = Cal()    \n",
        "cal2 = Cal()   \n",
        "cal3 = Cal()     \n",
        "\n",
        "print(cal1.add(2))\n",
        "print(cal1.add(1))\n",
        "print(cal1.add(3))\n",
        "print()\n",
        "print(cal2.add(5))\n",
        "print(cal2.add(4))\n",
        "print(cal2.add(1))\n",
        "print()\n",
        "print(cal3.add(2))\n",
        "\n",
        "# 이미 만들어진 클래스에 새로운 기능 추가되면 객체들도 그 기능을 모두 사용할수 있다.\n"
      ],
      "metadata": {
        "id": "2QXorA31tg2k"
      },
      "execution_count": null,
      "outputs": []
    },
    {
      "cell_type": "code",
      "source": [
        "class BigCal:\n",
        "  def setdata(self, first, second):  # self는 호출한 객체의 이름이 온다. \n",
        "    self.first = first\n",
        "    self.second = second\n",
        "\n",
        "  def add(self):\n",
        "    result = self.first + self.second\n",
        "    return result\n",
        "\n",
        "\n",
        "cal1 = BigCal()\n",
        "cal2 = BigCal()\n",
        "\n",
        "cal1.setdata(2,3)  # 2가 first 3이 second self는 cal1된다. \n",
        "cal2.setdata(4,2)  # 4가 first 2가 second self는 cal2\n",
        "\n",
        "print(cal1.first)  # 2\n",
        "print(cal2.first)  # 4\n",
        "\n",
        "print(cal1.add())\n",
        "print(cal2.add())\n",
        "\n",
        "# 하나의 클래스로 생성된 여러개의 객체들은 각각 다른 성질을 유지한다. "
      ],
      "metadata": {
        "colab": {
          "base_uri": "https://localhost:8080/"
        },
        "id": "AZSDqaFP-P9f",
        "outputId": "523e6e73-54f1-45dd-8ff9-52e658a873d5"
      },
      "execution_count": null,
      "outputs": [
        {
          "output_type": "stream",
          "name": "stdout",
          "text": [
            "2\n",
            "4\n",
            "5\n",
            "6\n"
          ]
        }
      ]
    },
    {
      "cell_type": "code",
      "source": [
        "class BigCal:\n",
        "  def setdata(self, first, second):  # self는 호출한 객체의 이름이 온다. \n",
        "    self.first = first\n",
        "    self.second = second\n",
        "\n",
        "  def add(self):\n",
        "    result = self.first + self.second\n",
        "    return result\n",
        "\n",
        "  def sub(self):\n",
        "    result = self.first - self.second\n",
        "    return result\n",
        "\n",
        "  def mul(self):\n",
        "    result = self.first * self.second\n",
        "    return result\n",
        "\n",
        "  def div(self):\n",
        "    result = self.first / self.second\n",
        "    return result\n",
        "\n",
        "cal1 = BigCal()\n",
        "cal2 = BigCal()\n",
        "\n",
        "cal1.setdata(2,3)  # 2가 first 3이 second self는 cal1된다. \n",
        "cal2.setdata(4,2)  # 4가 first 2가 second self는 cal2\n",
        "\n",
        "print(cal1.first)  # 2\n",
        "print(cal2.first)  # 4\n",
        "\n",
        "print(cal1.add())\n",
        "print(cal2.add())\n",
        "\n",
        "print(cal1.mul())\n",
        "print(cal2.mul())\n",
        "\n",
        "# 하나의 클래스로 생성된 여러개의 객체들은 각각 다른 성질을 유지한다. "
      ],
      "metadata": {
        "colab": {
          "base_uri": "https://localhost:8080/"
        },
        "id": "QG8anct7-QGc",
        "outputId": "014ee78a-9176-433a-aabb-f6ec49b6dfce"
      },
      "execution_count": null,
      "outputs": [
        {
          "output_type": "stream",
          "name": "stdout",
          "text": [
            "2\n",
            "4\n",
            "5\n",
            "6\n",
            "6\n",
            "8\n"
          ]
        }
      ]
    },
    {
      "cell_type": "code",
      "source": [
        "class BigCal:\n",
        "\n",
        "  def __init__(self, first, second):\n",
        "    self.first = first\n",
        "    self.second = second\n",
        "\n",
        "  # def setdata(self, first, second):  # self는 호출한 객체의 이름이 온다. \n",
        "  #   self.first = first\n",
        "  #   self.second = second\n",
        "\n",
        "  def add(self):\n",
        "    result = self.first + self.second\n",
        "    return result\n",
        "\n",
        "  def sub(self):\n",
        "    result = self.first - self.second\n",
        "    return result\n",
        "\n",
        "  def mul(self):\n",
        "    result = self.first * self.second\n",
        "    return result\n",
        "\n",
        "  def div(self):\n",
        "    result = self.first / self.second\n",
        "    return result\n",
        "\n",
        "# cal1 = BigCal()\n",
        "# cal2 = BigCal()\n",
        "\n",
        "# cal1.setdata(2,3)  # 2가 first 3이 second self는 cal1된다. \n",
        "# cal2.setdata(4,2)  # 4가 first 2가 second self는 cal2\n",
        "\n",
        "cal1 = BigCal(2,3)\n",
        "cal2 = BigCal(4,2)\n",
        "\n",
        "print(cal1.first)  # 2\n",
        "print(cal2.first)  # 4\n",
        "\n",
        "print(cal1.add())\n",
        "print(cal2.add())\n",
        "\n",
        "print(cal1.mul())\n",
        "print(cal2.mul())\n",
        "\n",
        "# 하나의 클래스로 생성된 여러개의 객체들은 각각 다른 성질을 유지한다. "
      ],
      "metadata": {
        "colab": {
          "base_uri": "https://localhost:8080/"
        },
        "id": "M7XarKu1-QLe",
        "outputId": "600c6e52-c1e2-4514-cfe9-0c47515504b2"
      },
      "execution_count": null,
      "outputs": [
        {
          "output_type": "stream",
          "name": "stdout",
          "text": [
            "2\n",
            "4\n",
            "5\n",
            "6\n",
            "6\n",
            "8\n"
          ]
        }
      ]
    },
    {
      "cell_type": "code",
      "source": [
        "# 상속 Inheritance \n",
        "# 자바는 다중상속을 지원하지 않는 반면 파이썬은 다중상속을 지원한다. "
      ],
      "metadata": {
        "id": "Av2TAIx1_LuU"
      },
      "execution_count": null,
      "outputs": []
    },
    {
      "cell_type": "code",
      "source": [],
      "metadata": {
        "id": "LWtUJCda_NQd"
      },
      "execution_count": null,
      "outputs": []
    },
    {
      "cell_type": "code",
      "source": [],
      "metadata": {
        "id": "9BkJ0h2f_NUW"
      },
      "execution_count": null,
      "outputs": []
    }
  ]
}