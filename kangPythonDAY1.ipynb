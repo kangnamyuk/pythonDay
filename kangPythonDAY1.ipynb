{
  "nbformat": 4,
  "nbformat_minor": 0,
  "metadata": {
    "colab": {
      "provenance": [],
      "authorship_tag": "ABX9TyOHjIA3UMQ5h4iweFXBn6XV",
      "include_colab_link": true
    },
    "kernelspec": {
      "name": "python3",
      "display_name": "Python 3"
    },
    "language_info": {
      "name": "python"
    }
  },
  "cells": [
    {
      "cell_type": "markdown",
      "metadata": {
        "id": "view-in-github",
        "colab_type": "text"
      },
      "source": [
        "<a href=\"https://colab.research.google.com/github/kangnamyuk/pythonDay/blob/main/kangPythonDAY1.ipynb\" target=\"_parent\"><img src=\"https://colab.research.google.com/assets/colab-badge.svg\" alt=\"Open In Colab\"/></a>"
      ]
    },
    {
      "cell_type": "code",
      "execution_count": null,
      "metadata": {
        "colab": {
          "base_uri": "https://localhost:8080/"
        },
        "id": "2_TYs4omkZFl",
        "outputId": "1c1b110d-8693-4180-a9f3-b6dc1c609005"
      },
      "outputs": [
        {
          "output_type": "stream",
          "name": "stdout",
          "text": [
            "Hello world 한글테스트\n"
          ]
        }
      ],
      "source": [
        "print(\"Hello world 한글테스트\")"
      ]
    },
    {
      "cell_type": "markdown",
      "source": [
        "a=20\n",
        "\n",
        "b=\"Hello\"\n",
        "\n",
        "a=\"hi\""
      ],
      "metadata": {
        "id": "Tvh8kbDylXB9"
      }
    },
    {
      "cell_type": "code",
      "source": [
        "#파이썬은 자바와는 달리 자료형 선언을 하지 않아도 알아서 데이터에 맞게 타입을 자동으로 저장한다.\n",
        "\n",
        "a=20\n",
        "\n",
        "b=\"Hello\"\n",
        "\n",
        "a=\"hi\"\n",
        "\n",
        "print(a)"
      ],
      "metadata": {
        "colab": {
          "base_uri": "https://localhost:8080/"
        },
        "id": "f9wziB7VnP_s",
        "outputId": "96f975ff-3e46-49cb-d2d2-c3bf567f956e"
      },
      "execution_count": null,
      "outputs": [
        {
          "output_type": "stream",
          "name": "stdout",
          "text": [
            "hi\n"
          ]
        }
      ]
    },
    {
      "cell_type": "code",
      "source": [
        "# 정수형 자료형\n",
        "\n",
        "a = 100\n",
        "b = -123\n",
        "c = 0"
      ],
      "metadata": {
        "id": "71u6JEPPpjCT"
      },
      "execution_count": null,
      "outputs": []
    },
    {
      "cell_type": "code",
      "source": [
        "# 실수형 자료형\n",
        "\n",
        "a = 3.14\n",
        "b = -5.16"
      ],
      "metadata": {
        "id": "a_HM93WEpjlq"
      },
      "execution_count": null,
      "outputs": []
    },
    {
      "cell_type": "code",
      "source": [
        "#숫자형 자료형에서의 연산\n",
        "\n",
        "a = 3\n",
        "b = 4\n",
        "\n",
        "#코랩에서는 print 를 생략해도 알아서 print() 넣어준다. 마지막에만 넣어준다.\n",
        "a + b\n",
        "a - b"
      ],
      "metadata": {
        "colab": {
          "base_uri": "https://localhost:8080/"
        },
        "id": "M45cCmGIrPIe",
        "outputId": "9984f87b-3dde-4a6f-b02a-384dda94b564"
      },
      "execution_count": null,
      "outputs": [
        {
          "output_type": "execute_result",
          "data": {
            "text/plain": [
              "-1"
            ]
          },
          "metadata": {},
          "execution_count": 4
        }
      ]
    },
    {
      "cell_type": "code",
      "source": [
        "a + b\n",
        "a - b\n",
        "\n",
        "print(a+b)\n",
        "print(a-b)\n",
        "\n",
        "# print() 구문을 생략하면 마지막 구문만 출력해주기 때문에 전부 출력하고 싶으면\n",
        "# 각각 print()구문을 다적어야한다. 이것은 파이썬의 특징이 아닌 코랩의 특징이다."
      ],
      "metadata": {
        "colab": {
          "base_uri": "https://localhost:8080/"
        },
        "id": "vEj2iIOTrPLL",
        "outputId": "fcfd518c-6448-4d94-a451-973bf24acea8"
      },
      "execution_count": null,
      "outputs": [
        {
          "output_type": "stream",
          "name": "stdout",
          "text": [
            "7\n",
            "-1\n"
          ]
        }
      ]
    },
    {
      "cell_type": "code",
      "source": [
        "# 나머지 연산자 - 홀수 짝수 배수 확인\n",
        "\n",
        "5/2 #일반적인 나머지 구하기"
      ],
      "metadata": {
        "colab": {
          "base_uri": "https://localhost:8080/"
        },
        "id": "JtitOVqtrwnR",
        "outputId": "4c17b364-347b-45ba-e3a6-816526264d84"
      },
      "execution_count": null,
      "outputs": [
        {
          "output_type": "execute_result",
          "data": {
            "text/plain": [
              "2.5"
            ]
          },
          "metadata": {},
          "execution_count": 6
        }
      ]
    },
    {
      "cell_type": "code",
      "source": [
        "5 % 2 \n",
        "\n",
        "#나눈 결과의 몫은 버리고 나머지만 취한다.\n",
        "#따라서 어떤 수를 2로 나눈 나머지가 0이 나오면 짝수 1이 나오면 홀수"
      ],
      "metadata": {
        "colab": {
          "base_uri": "https://localhost:8080/"
        },
        "id": "2YgRth_NsK3B",
        "outputId": "8c64eacb-8c49-44c2-f46c-91b6da48bbb2"
      },
      "execution_count": null,
      "outputs": [
        {
          "output_type": "execute_result",
          "data": {
            "text/plain": [
              "1"
            ]
          },
          "metadata": {},
          "execution_count": 7
        }
      ]
    },
    {
      "cell_type": "code",
      "source": [
        "8%2\n",
        "#어떤수를 어떤수로 나눈 나머지가 0이면 배수이다."
      ],
      "metadata": {
        "colab": {
          "base_uri": "https://localhost:8080/"
        },
        "id": "G24Mq5Xbsk4j",
        "outputId": "f70fc2e1-554b-4dd6-e0ed-6b06742e758b"
      },
      "execution_count": null,
      "outputs": [
        {
          "output_type": "execute_result",
          "data": {
            "text/plain": [
              "0"
            ]
          },
          "metadata": {},
          "execution_count": 8
        }
      ]
    },
    {
      "cell_type": "code",
      "source": [
        "#문자열 자료형\n",
        "#1 큰 따옴표\n",
        "\n",
        "\"Hello World\"\n",
        "\n",
        "#2 작은 따옴표\n",
        "'Hello World'\n",
        "\n",
        "#3 3중 따옴표 Doc String\n",
        "\"\"\"Hello World\"\"\"\n",
        "'''Hello World'''"
      ],
      "metadata": {
        "colab": {
          "base_uri": "https://localhost:8080/",
          "height": 35
        },
        "id": "IJkU7PCHvyr4",
        "outputId": "5724c057-5ab7-4127-c378-9d4e92bfbd51"
      },
      "execution_count": null,
      "outputs": [
        {
          "output_type": "execute_result",
          "data": {
            "text/plain": [
              "'Hello World'"
            ],
            "application/vnd.google.colaboratory.intrinsic+json": {
              "type": "string"
            }
          },
          "metadata": {},
          "execution_count": 9
        }
      ]
    },
    {
      "cell_type": "code",
      "source": [
        "#파이썬에서는 큰따옴표와 작은 따옴표에 전혀 차이가 없지만\n",
        "#아래의 용도로 분리하여 사용된다.\n",
        "\n",
        "\"Python's\"    #작은 따옴표 하나를 출력하기 위한 용도\n",
        "'say\"Hello\"'  #작은 따옴표 안에서 큰 따옴표를 출력하기 위한 용도"
      ],
      "metadata": {
        "colab": {
          "base_uri": "https://localhost:8080/",
          "height": 35
        },
        "id": "jIrEirgAwfAy",
        "outputId": "c0199084-01ea-4f11-a206-3fd848b61f38"
      },
      "execution_count": null,
      "outputs": [
        {
          "output_type": "execute_result",
          "data": {
            "text/plain": [
              "'say\"Hello\"'"
            ],
            "application/vnd.google.colaboratory.intrinsic+json": {
              "type": "string"
            }
          },
          "metadata": {},
          "execution_count": 10
        }
      ]
    },
    {
      "cell_type": "code",
      "source": [
        "# \\n 줄바꿈\n",
        "a = \"I love you\\nYou love me?\"\n",
        "print(a)\n",
        "\n",
        "b=\"\"\"I love you \n",
        "you love me?\"\"\"\n",
        "print(b)\n",
        "\n",
        "#에러 발생\n",
        "#c = \"I love you \n",
        "# you love me?\""
      ],
      "metadata": {
        "colab": {
          "base_uri": "https://localhost:8080/"
        },
        "id": "5dyT8z3BxZ_u",
        "outputId": "b277fd96-680a-4431-fcf2-f8b4edf1426c"
      },
      "execution_count": null,
      "outputs": [
        {
          "output_type": "stream",
          "name": "stdout",
          "text": [
            "I love you\n",
            "You love me?\n",
            "I love you \n",
            "you love me?\n"
          ]
        }
      ]
    },
    {
      "cell_type": "code",
      "source": [
        "# 문자열 연산\n",
        "\n",
        "#파이썬에서는 문자열도 연산이 가능하다. 특히 다른 언어에서는 발견하기 어려운 파이썬만의\n",
        "#독특한 특징이다. 이런 점들이 바로 파이썬은 우리의 생각을 그대로 반영할 수 있다는 파이썬 만의\n",
        "#장점들이다.\n",
        "\n",
        "a =\"I \"\n",
        "b=\"love \"\n",
        "c=\"you\"\n",
        "\n",
        "print(a+b+c)\n",
        "\n",
        "d = \"love\"\n",
        "print(d*3)\n",
        "\n",
        "e = \"=\"\n",
        "print(e*30)\n"
      ],
      "metadata": {
        "colab": {
          "base_uri": "https://localhost:8080/"
        },
        "id": "VQICaOCHykSW",
        "outputId": "67cdc30e-1441-4145-ea24-56ac93e1807c"
      },
      "execution_count": null,
      "outputs": [
        {
          "output_type": "stream",
          "name": "stdout",
          "text": [
            "I love you\n",
            "lovelovelove\n",
            "==============================\n"
          ]
        }
      ]
    },
    {
      "cell_type": "code",
      "source": [
        "# len()\n",
        "\n",
        "print(len(\"I love you\")) #빈칸도 글자 취급한다."
      ],
      "metadata": {
        "colab": {
          "base_uri": "https://localhost:8080/"
        },
        "id": "avLz_qxyz_aA",
        "outputId": "df918588-7432-41e7-fa09-bb6f6979f10c"
      },
      "execution_count": null,
      "outputs": [
        {
          "output_type": "stream",
          "name": "stdout",
          "text": [
            "10\n"
          ]
        }
      ]
    },
    {
      "cell_type": "code",
      "source": [
        "#인덱싱과 슬라이싱  indexing & slicing\n",
        "#참고로 인덱싱과 슬라이싱은 리스트와 튜플에서도 완전히 동일하게 사용된다.\n",
        "\n",
        "#인덱싱 - 한 개의 글자 추출\n",
        "a = 'I love you'\n",
        "print(a[0])\n",
        "print(a[9])\n",
        "print(a[-1]) # 마지막 글자 추출은 -1 사용한다.\n",
        "print(a[-3])\n",
        "\n",
        "#슬라이싱 - 여러개의 글자 추출\n",
        "a = 'I love you'\n",
        "print(a[2] + a[3] + a[4] + a[5])\n",
        "print(a[2:6]) # 끝자리를 나타내는 수는 미만을 의미한다.\n",
        "print(a[7:])  # 끝자리를 생략하면 끝까지 출력한다.\n",
        "print(a[:2])  # 시작 자리를 생략하면 처음 즉 0 부터 시작한다.\n",
        "print(a[:])   # 모든 자리 생략하면 처음 부터 끝까지 출력한다.\n",
        "print(a[7:-1])# 슬라이싱에서도 - 표기를 사용한다. 역시 미만으로 사용된다. "
      ],
      "metadata": {
        "colab": {
          "base_uri": "https://localhost:8080/"
        },
        "id": "KUAJaFny0086",
        "outputId": "0fcbbe87-ae66-4066-91fe-0b65ede8e269"
      },
      "execution_count": null,
      "outputs": [
        {
          "output_type": "stream",
          "name": "stdout",
          "text": [
            "I\n",
            "u\n",
            "u\n",
            "y\n",
            "love\n",
            "love\n",
            "you\n",
            "I \n",
            "I love you\n",
            "yo\n"
          ]
        }
      ]
    },
    {
      "cell_type": "code",
      "source": [
        "#파이썬에서 출력 방법 총4가지\n",
        "\n",
        "#문자열 포맷팅(중요도 하)\n",
        "\n",
        "print(\"I %s you\" % \"love\")\n",
        "print(\"I ate %d apples\" % 5)\n",
        "print(\"I ate %s apples\" % 5)\n",
        "\n",
        "print(\"I %s you, I ate %s apples\" % (\"love\",5))\n",
        "\n",
        "# 2 format() 포맷함수 중요도(하)\n",
        "\n",
        "print(\"I {} you\".format(\"love\"))\n",
        "print(\"I ate {} apples\".format(5))\n",
        "print(\"I ate {} apples\".format(5))\n",
        "\n",
        "print(\"I {} you, I ate {} apples\".format(\"love\",5))\n",
        "\n"
      ],
      "metadata": {
        "colab": {
          "base_uri": "https://localhost:8080/"
        },
        "id": "hGwvFXxR7wKD",
        "outputId": "d8f055d9-66dc-48c5-9557-15625a07c92f"
      },
      "execution_count": null,
      "outputs": [
        {
          "output_type": "stream",
          "name": "stdout",
          "text": [
            "I love you\n",
            "I ate 5 apples\n",
            "I ate 5 apples\n",
            "I love you, I ate 5 apples\n",
            "I love you\n",
            "I ate 5 apples\n",
            "I ate 5 apples\n",
            "I love you, I ate 5 apples\n"
          ]
        }
      ]
    },
    {
      "cell_type": "code",
      "source": [
        "# 3 f스트링 (중요도 상)\n",
        "\n",
        "a = \"love\"\n",
        "b = 5\n",
        "\n",
        "print(f\"I {a} you\")\n",
        "print(f\"I ate {b} apples\")\n",
        "print(f\"I ate {b} apples\")\n",
        "\n",
        "print(f\"I {a} you, I ate {b} apples\")\n",
        "\n"
      ],
      "metadata": {
        "colab": {
          "base_uri": "https://localhost:8080/"
        },
        "id": "yqyHkK6_-Aw2",
        "outputId": "e8fa5e0c-2d56-46c5-d521-b7764eafc2b9"
      },
      "execution_count": null,
      "outputs": [
        {
          "output_type": "stream",
          "name": "stdout",
          "text": [
            "I love you\n",
            "I ate 5 apples\n",
            "I ate 5 apples\n",
            "I love you, I ate 5 apples\n"
          ]
        }
      ]
    },
    {
      "cell_type": "code",
      "source": [
        "# 4 연산자 사용\n",
        "\n",
        "a = \"love\"\n",
        "b = 5\n",
        "\n",
        "print(\"I \" + a + \" you\")\n",
        "print(\"I ate\" , b , \"apples\")\n",
        "print(\"I ate\" , b ,  \"apples\")\n",
        "\n",
        "print(\"I \" + a + \"you, I ate\" , b , \"apples\")\n",
        "\n",
        "print(\"I \" , a , \" you\")\n",
        "print(\"I ate\" , b , \"apples\")\n",
        "print(\"I ate\" , b ,  \"apples\")\n",
        "\n",
        "print(\"I\" , a , \"you, I ate\" , b , \"apples\")\n"
      ],
      "metadata": {
        "colab": {
          "base_uri": "https://localhost:8080/"
        },
        "id": "utoBJULtAIOe",
        "outputId": "a338209c-c8af-4550-ef2c-edca4ca854da"
      },
      "execution_count": null,
      "outputs": [
        {
          "output_type": "stream",
          "name": "stdout",
          "text": [
            "I love you\n",
            "I ate 5 apples\n",
            "I ate 5 apples\n",
            "I loveyou, I ate 5 apples\n",
            "I  love  you\n",
            "I ate 5 apples\n",
            "I ate 5 apples\n",
            "I love you, I ate 5 apples\n"
          ]
        }
      ]
    },
    {
      "cell_type": "code",
      "source": [
        "# 문자열 관련 자주 사용하는 함수 정리\n",
        "\n",
        "#len 문자열의 갯수 확인\n",
        "\n",
        "print(len(\"i love you\")) # 빈칸도 글자로 센다.\n"
      ],
      "metadata": {
        "colab": {
          "base_uri": "https://localhost:8080/"
        },
        "id": "cdtLEjoPAmkC",
        "outputId": "09ddd242-5dce-4227-c12e-618bcb966a28"
      },
      "execution_count": null,
      "outputs": [
        {
          "output_type": "stream",
          "name": "stdout",
          "text": [
            "10\n"
          ]
        }
      ]
    }
  ]
}