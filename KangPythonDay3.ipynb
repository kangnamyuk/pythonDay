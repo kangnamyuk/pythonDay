{
  "nbformat": 4,
  "nbformat_minor": 0,
  "metadata": {
    "colab": {
      "provenance": [],
      "authorship_tag": "ABX9TyOPwhIuyCh1TR96YmnWCyHd",
      "include_colab_link": true
    },
    "kernelspec": {
      "name": "python3",
      "display_name": "Python 3"
    },
    "language_info": {
      "name": "python"
    }
  },
  "cells": [
    {
      "cell_type": "markdown",
      "metadata": {
        "id": "view-in-github",
        "colab_type": "text"
      },
      "source": [
        "<a href=\"https://colab.research.google.com/github/kangnamyuk/pythonDay/blob/main/KangPythonDay3.ipynb\" target=\"_parent\"><img src=\"https://colab.research.google.com/assets/colab-badge.svg\" alt=\"Open In Colab\"/></a>"
      ]
    },
    {
      "cell_type": "code",
      "execution_count": null,
      "metadata": {
        "id": "go110YTxHmdy"
      },
      "outputs": [],
      "source": [
        "# 조건문 if\n",
        "\n",
        "# 조건문은 특정 조건을 만족할때 실행되는 코드를 제어한다. 개발하다보면 여러가지 상황을 처리해야\n",
        "# 하는 경우가 발생한다. 이때 조건문을 통해 실행 되거나 또는 실행되지 않는 코드를 정의 할 수 있다.\n",
        "\n",
        "# if 의 기본 문법\n",
        "\n",
        "# 자바에서의 if문\n",
        "# if (조건식) {\n",
        "#     만족하는 경우:\n",
        "# }\n",
        "\n",
        "# 파이썬에서의 기본 if문\n",
        "# if 조건식:                      # 조건식 뒤에 : 콜론을 잊지 말자. 중괄호는 사용하지 않는다.\n",
        "#  조건을 만조하는 경우 실행코드  # 파이썬은 들여쓰기에 매우 민감하다.  \n",
        "\n",
        "# 조건식에는 항상 언제나 최종값이 True와 False 만이 올 수 있다.\n",
        "# 다시 한번 강조하지만 만약 들여쓰기를 하지 않으면 오류가 발생된다.\n",
        "\n",
        "x = 11  #x가 10이 아니면 출력되지 않는다.\n",
        "if x == 10:\n",
        "  print(x)"
      ]
    },
    {
      "cell_type": "code",
      "source": [
        "a = int(input('정수를 입력하세요> '))\n",
        "\n",
        "if a == 5:\n",
        "  print(f'입력한 값은 {a}입니다.')"
      ],
      "metadata": {
        "colab": {
          "base_uri": "https://localhost:8080/"
        },
        "id": "KsH3XZjRKGOh",
        "outputId": "b6b6670d-978f-43f4-88fe-fcbae4a623f2"
      },
      "execution_count": null,
      "outputs": [
        {
          "output_type": "stream",
          "name": "stdout",
          "text": [
            "정수를 입력하세요> 5\n",
            "입력한 값은 5입니다.\n"
          ]
        }
      ]
    },
    {
      "cell_type": "code",
      "source": [
        "# 조건식을 여러개 취급해야하는 경우 가능하면 중첩 if 문은 사용하지 말자\n",
        "x = 15\n",
        "\n",
        "if x >= 10:\n",
        "  print('x는 10 이상입니다.')\n",
        "  if x <= 20:\n",
        "    print('x는 20 이하입니다.')\n",
        "  if x == 15:\n",
        "    print('x는 15입니다.')"
      ],
      "metadata": {
        "colab": {
          "base_uri": "https://localhost:8080/"
        },
        "id": "tstETz5OLaV2",
        "outputId": "a173b221-40ad-4428-a3aa-97c862979fb7"
      },
      "execution_count": null,
      "outputs": [
        {
          "output_type": "stream",
          "name": "stdout",
          "text": [
            "x는 10 이상입니다.\n",
            "x는 20 이하입니다.\n",
            "x는 15입니다.\n"
          ]
        }
      ]
    },
    {
      "cell_type": "code",
      "source": [
        "a = int(input('숫자를 입력하세요'))\n",
        "\n",
        "if a > 5:\n",
        "  print('입력값이 5보다 큽니다.')\n",
        "else :\n",
        "  print('입력값이 5보다 작거나 같습니다.')"
      ],
      "metadata": {
        "colab": {
          "base_uri": "https://localhost:8080/"
        },
        "id": "57nZLoe0Mn8I",
        "outputId": "0416d2bd-c92b-4394-dd82-9a3fbfc1f008"
      },
      "execution_count": null,
      "outputs": [
        {
          "output_type": "stream",
          "name": "stdout",
          "text": [
            "숫자를 입력하세요4\n",
            "입력값이 5보다 작거나 같습니다.\n"
          ]
        }
      ]
    },
    {
      "cell_type": "code",
      "source": [
        "a = int(input('숫자를 입력하세요'))\n",
        "\n",
        "if a > 5:\n",
        "  print('입력값이 5보다 큽니다.')\n",
        "elif a == 5:\n",
        "  print('입력값이 5입니다.')\n",
        "else :\n",
        "  print('입력값이 5보다 작습니다.')"
      ],
      "metadata": {
        "colab": {
          "base_uri": "https://localhost:8080/"
        },
        "id": "BOdu084oM-wZ",
        "outputId": "8991dbac-47bd-4d13-a4f9-6b2ca8ef5e30"
      },
      "execution_count": null,
      "outputs": [
        {
          "output_type": "stream",
          "name": "stdout",
          "text": [
            "숫자를 입력하세요7\n",
            "입력값이 5보다 큽니다.\n"
          ]
        }
      ]
    },
    {
      "cell_type": "code",
      "source": [
        "no = int(input('1부터 5사이의 값을 입력하세요'))\n",
        "\n",
        "if no < 5 and no >= 4: # 양쪽 조건을 동시에 만족\n",
        "  print('입력값은 4입니다.')\n",
        "elif no < 4 and no >= 3: # 양쪽 조건을 동시에 만족\n",
        "  print('입력값은 3입니다.')\n",
        "elif no < 3 and no >= 2: # 양쪽 조건을 동시에 만족\n",
        "  print('입력값은 2입니다.')\n",
        "elif no < 2 and no >= 1: # 양쪽 조건을 동시에 만족\n",
        "  print('입력값은 1입니다.')\n",
        "else:\n",
        "  print('입력값은 5입니다.')"
      ],
      "metadata": {
        "colab": {
          "base_uri": "https://localhost:8080/"
        },
        "id": "PEg5LXYtNWqS",
        "outputId": "deb74be4-fa96-4c6b-be09-347db314c8b0"
      },
      "execution_count": null,
      "outputs": [
        {
          "output_type": "stream",
          "name": "stdout",
          "text": [
            "1부터 5사이의 값을 입력하세요3\n",
            "입력값은 3입니다.\n"
          ]
        }
      ]
    },
    {
      "cell_type": "code",
      "source": [
        "#q1 월을 입력하세요? 해당 계절을 출력하세요. 3,4,5 봄 6,7,8 여름 9,10,11가을 12,1,2 봄\n",
        "a = int(input('월을 입력하세요.'))\n",
        "\n",
        "if a > 2 and a <= 5: # 양쪽 조건을 동시에 만족\n",
        "  print('봄')\n",
        "elif a > 5 and a <= 8: # 양쪽 조건을 동시에 만족\n",
        "  print('여름')\n",
        "elif a > 8 and a <= 11: # 양쪽 조건을 동시에 만족\n",
        "  print('가을')\n",
        "else:\n",
        "  print('겨울')"
      ],
      "metadata": {
        "colab": {
          "base_uri": "https://localhost:8080/"
        },
        "id": "-0xPomXMPigJ",
        "outputId": "89c5e620-4b0a-453f-9e9e-55b908c5fc48"
      },
      "execution_count": null,
      "outputs": [
        {
          "output_type": "stream",
          "name": "stdout",
          "text": [
            "월을 입력하세요.11\n",
            "가을\n"
          ]
        }
      ]
    },
    {
      "cell_type": "code",
      "source": [
        "# if statement 조건 구문\n",
        "\n",
        "# 정수 하나를 입력 받아서 그 수가 홀수 인지 짝수 인지를 알려주는 프로그램을 만드세요\n",
        "\n",
        "no = int(input('정수를 입력하세요'))\n",
        "\n",
        "if no % 2 == 0:\n",
        "  print(f'입력하신 {no}은 짝수 입니다. ')\n",
        "else:\n",
        "  print(f'입력하신 {no}은 홀수 입니다. ')\n"
      ],
      "metadata": {
        "colab": {
          "base_uri": "https://localhost:8080/"
        },
        "id": "DaYEsq_gPiqy",
        "outputId": "fc62f752-c5d6-4fb1-b3bf-5c98cc4f6b2d"
      },
      "execution_count": null,
      "outputs": [
        {
          "output_type": "stream",
          "name": "stdout",
          "text": [
            "정수를 입력하세요4\n",
            "입력하신 4은 짝수 입니다. \n"
          ]
        }
      ]
    },
    {
      "cell_type": "code",
      "source": [
        "# 조건부 표현식  if expression  조건 표현식\n",
        "# 자바의 삼항연산자와는 달리 if 를 사용하여 표현한다. \n",
        "\n",
        "no = int(input('정수를 입력하세요'))\n",
        "\n",
        "\n",
        "answer = '짝수' if no % 2 == 0 else \"홀수\"   # True출력값      if 조건식     else False출력값\n",
        "print(f'입력하신 {no}은 {answer}입니다')"
      ],
      "metadata": {
        "colab": {
          "base_uri": "https://localhost:8080/"
        },
        "id": "bFt0_SIAPit0",
        "outputId": "3ef5d031-6a56-4e66-f709-79f1be83709a"
      },
      "execution_count": null,
      "outputs": [
        {
          "output_type": "stream",
          "name": "stdout",
          "text": [
            "정수를 입력하세요5\n",
            "입력하신 5은 홀수입니다\n"
          ]
        }
      ]
    },
    {
      "cell_type": "code",
      "source": [
        "# if 와  in 연산자\n",
        "list1 = ['봄','가을']\n",
        "\n",
        "input1 = input('어느 계절을 좋아하시나요? ')\n",
        "\n",
        "if input1 in list1:\n",
        "  print(f'{input1}은 여행 가능한 계절니다. ')\n",
        "else:\n",
        "  print(f'{input1}은 여행이 불가능한 계절입니다. ')"
      ],
      "metadata": {
        "colab": {
          "base_uri": "https://localhost:8080/"
        },
        "id": "apSqRHhXPiwc",
        "outputId": "f74ab605-d40f-42b1-a565-8e3878e40579"
      },
      "execution_count": null,
      "outputs": [
        {
          "output_type": "stream",
          "name": "stdout",
          "text": [
            "어느 계절을 좋아하시나요? 겨울\n",
            "겨울은 여행이 불가능한 계절입니다. \n"
          ]
        }
      ]
    },
    {
      "cell_type": "code",
      "source": [
        "# 성적을 입력 받아서 59점 까지는 F학점\n",
        "# 69점까지는 D학점\n",
        "# 79점까지는 C학점\n",
        "# 89점까지는 B학점\n",
        "# 100점까지는 A학점을 \n",
        "# '당신의 점수 {}는 {}학점입니다.'\n",
        "\n",
        "input = int(input('성적 입력 >'))\n",
        "\n",
        "if input <= 59 :\n",
        "    rank = 'F'\n",
        "elif 59 < input and input <= 69 :\n",
        "    rank = 'D'\n",
        "elif 69 < input and input <= 79 :\n",
        "    rank = 'C'\n",
        "elif 79 < input and input <= 89 :\n",
        "    rank = 'B'    \n",
        "else:\n",
        "    rank = 'A'\n",
        "\n",
        "print(f\"당신의 점수{input}는 {rank}학점입니다.\")"
      ],
      "metadata": {
        "colab": {
          "base_uri": "https://localhost:8080/"
        },
        "id": "CMAWXbZXPiyx",
        "outputId": "ebe7d0e7-080f-4d96-b0df-b3f47829b1c9"
      },
      "execution_count": null,
      "outputs": [
        {
          "output_type": "stream",
          "name": "stdout",
          "text": [
            "성적 입력 >85\n",
            "당신의 점수85는 B학점입니다.\n"
          ]
        }
      ]
    },
    {
      "cell_type": "code",
      "source": [
        "# 반복문 While For\n",
        "\n",
        "# While 은 반복횟수가 불명확할때 주로 사용되고 \n",
        "# For 문은 반복횟수가 명확할때 주로 사용된다. \n",
        "\n",
        "# 예를 들어 'ht' 10번 반복하여 출력하고자한다. \n",
        "print('ht') \n",
        "print('ht') \n",
        "print('ht') \n",
        "print('ht') \n",
        "print('ht') \n",
        "print('ht') \n",
        "print('ht') \n",
        "print('ht') \n",
        "print('ht') \n",
        "print('ht') \n",
        "\n",
        "# 10번의 경우에는 위와같이 10번 반복할수 있다. 하지만 1000번이라면 무모하다. "
      ],
      "metadata": {
        "colab": {
          "base_uri": "https://localhost:8080/"
        },
        "id": "Fy46g539Pi1R",
        "outputId": "dbabb3eb-5a02-4160-c92c-489f1a5f1aff"
      },
      "execution_count": null,
      "outputs": [
        {
          "output_type": "stream",
          "name": "stdout",
          "text": [
            "ht\n",
            "ht\n",
            "ht\n",
            "ht\n",
            "ht\n",
            "ht\n",
            "ht\n",
            "ht\n",
            "ht\n",
            "ht\n"
          ]
        }
      ]
    },
    {
      "cell_type": "code",
      "source": [
        "for i in range(10): \n",
        "  print('ht')\n",
        "\n",
        "  #range는 인수 3개가 기본이다. range(start, stop, step)\n",
        "  #start 생략가능 0에서 시작 step 생략가능 하나씩 증가. "
      ],
      "metadata": {
        "colab": {
          "base_uri": "https://localhost:8080/"
        },
        "id": "SxdZJqMpPi3N",
        "outputId": "5be4886b-af25-423d-8fda-68fd9d02a042"
      },
      "execution_count": null,
      "outputs": [
        {
          "output_type": "stream",
          "name": "stdout",
          "text": [
            "ht\n",
            "ht\n",
            "ht\n",
            "ht\n",
            "ht\n",
            "ht\n",
            "ht\n",
            "ht\n",
            "ht\n",
            "ht\n"
          ]
        }
      ]
    },
    {
      "cell_type": "code",
      "source": [
        "list1 = [10,30,20,50]\n",
        "\n",
        "for i in list1:\n",
        "  print(i)"
      ],
      "metadata": {
        "colab": {
          "base_uri": "https://localhost:8080/"
        },
        "id": "wlz26uOXdlsp",
        "outputId": "1eb4ab93-4814-465b-85a6-8c051aa8781c"
      },
      "execution_count": null,
      "outputs": [
        {
          "output_type": "stream",
          "name": "stdout",
          "text": [
            "10\n",
            "30\n",
            "20\n",
            "50\n"
          ]
        }
      ]
    },
    {
      "cell_type": "code",
      "source": [
        "list1 = [10,30,20,50]\n",
        "\n",
        "for i in range(4):\n",
        "  print(list1[i])"
      ],
      "metadata": {
        "colab": {
          "base_uri": "https://localhost:8080/"
        },
        "id": "EFCOK40WdmxT",
        "outputId": "c529a1f0-3262-4f80-9572-9b3e34ca1d25"
      },
      "execution_count": null,
      "outputs": [
        {
          "output_type": "stream",
          "name": "stdout",
          "text": [
            "10\n",
            "30\n",
            "20\n",
            "50\n"
          ]
        }
      ]
    },
    {
      "cell_type": "code",
      "source": [
        "# 리스트와 for문을 이용하여 1~100까지의 합 구하기\n",
        "\n",
        "numbers = list(range(1, 101))\n",
        "sum = 0\n",
        "for number in numbers:\n",
        "    sum += number\n",
        "print(\"1부터 100까지의 합:\", sum)\n"
      ],
      "metadata": {
        "colab": {
          "base_uri": "https://localhost:8080/"
        },
        "id": "h8fUzXbLdnJM",
        "outputId": "25fad621-5487-47d9-a1ab-2f1bea402ca1"
      },
      "execution_count": null,
      "outputs": [
        {
          "output_type": "stream",
          "name": "stdout",
          "text": [
            "1부터 100까지의 합: 5050\n"
          ]
        }
      ]
    },
    {
      "cell_type": "code",
      "source": [
        "# 2중 for 문\n",
        "\n",
        "for x in range(2,10):\n",
        "  for y in range(1,10):\n",
        "    print(x , \"*\", y, \"=\", x*y , end=\" \\t\")\n",
        "  print(\"\")\n",
        "\n",
        "# 단별로 옆으로 한줄로 찍기"
      ],
      "metadata": {
        "colab": {
          "base_uri": "https://localhost:8080/"
        },
        "id": "Oqe7iSLDluUO",
        "outputId": "dfa903d7-097a-47ca-dd0b-69ee74c41741"
      },
      "execution_count": null,
      "outputs": [
        {
          "output_type": "stream",
          "name": "stdout",
          "text": [
            "2 * 1 = 2 \t2 * 2 = 4 \t2 * 3 = 6 \t2 * 4 = 8 \t2 * 5 = 10 \t2 * 6 = 12 \t2 * 7 = 14 \t2 * 8 = 16 \t2 * 9 = 18 \t\n",
            "3 * 1 = 3 \t3 * 2 = 6 \t3 * 3 = 9 \t3 * 4 = 12 \t3 * 5 = 15 \t3 * 6 = 18 \t3 * 7 = 21 \t3 * 8 = 24 \t3 * 9 = 27 \t\n",
            "4 * 1 = 4 \t4 * 2 = 8 \t4 * 3 = 12 \t4 * 4 = 16 \t4 * 5 = 20 \t4 * 6 = 24 \t4 * 7 = 28 \t4 * 8 = 32 \t4 * 9 = 36 \t\n",
            "5 * 1 = 5 \t5 * 2 = 10 \t5 * 3 = 15 \t5 * 4 = 20 \t5 * 5 = 25 \t5 * 6 = 30 \t5 * 7 = 35 \t5 * 8 = 40 \t5 * 9 = 45 \t\n",
            "6 * 1 = 6 \t6 * 2 = 12 \t6 * 3 = 18 \t6 * 4 = 24 \t6 * 5 = 30 \t6 * 6 = 36 \t6 * 7 = 42 \t6 * 8 = 48 \t6 * 9 = 54 \t\n",
            "7 * 1 = 7 \t7 * 2 = 14 \t7 * 3 = 21 \t7 * 4 = 28 \t7 * 5 = 35 \t7 * 6 = 42 \t7 * 7 = 49 \t7 * 8 = 56 \t7 * 9 = 63 \t\n",
            "8 * 1 = 8 \t8 * 2 = 16 \t8 * 3 = 24 \t8 * 4 = 32 \t8 * 5 = 40 \t8 * 6 = 48 \t8 * 7 = 56 \t8 * 8 = 64 \t8 * 9 = 72 \t\n",
            "9 * 1 = 9 \t9 * 2 = 18 \t9 * 3 = 27 \t9 * 4 = 36 \t9 * 5 = 45 \t9 * 6 = 54 \t9 * 7 = 63 \t9 * 8 = 72 \t9 * 9 = 81 \t\n"
          ]
        }
      ]
    },
    {
      "cell_type": "code",
      "source": [
        "for i in range(1, 10):\n",
        "    for j in range(1, 10):\n",
        "        print(f\"{i} x {j} = {i*j:2}\", end=\"  \")\n",
        "    print()"
      ],
      "metadata": {
        "colab": {
          "base_uri": "https://localhost:8080/"
        },
        "id": "lXxZSTzylueP",
        "outputId": "0e40dac2-a364-4396-831e-48d8fc8b5257"
      },
      "execution_count": null,
      "outputs": [
        {
          "output_type": "stream",
          "name": "stdout",
          "text": [
            "1 x 1 =  1  1 x 2 =  2  1 x 3 =  3  1 x 4 =  4  1 x 5 =  5  1 x 6 =  6  1 x 7 =  7  1 x 8 =  8  1 x 9 =  9  \n",
            "2 x 1 =  2  2 x 2 =  4  2 x 3 =  6  2 x 4 =  8  2 x 5 = 10  2 x 6 = 12  2 x 7 = 14  2 x 8 = 16  2 x 9 = 18  \n",
            "3 x 1 =  3  3 x 2 =  6  3 x 3 =  9  3 x 4 = 12  3 x 5 = 15  3 x 6 = 18  3 x 7 = 21  3 x 8 = 24  3 x 9 = 27  \n",
            "4 x 1 =  4  4 x 2 =  8  4 x 3 = 12  4 x 4 = 16  4 x 5 = 20  4 x 6 = 24  4 x 7 = 28  4 x 8 = 32  4 x 9 = 36  \n",
            "5 x 1 =  5  5 x 2 = 10  5 x 3 = 15  5 x 4 = 20  5 x 5 = 25  5 x 6 = 30  5 x 7 = 35  5 x 8 = 40  5 x 9 = 45  \n",
            "6 x 1 =  6  6 x 2 = 12  6 x 3 = 18  6 x 4 = 24  6 x 5 = 30  6 x 6 = 36  6 x 7 = 42  6 x 8 = 48  6 x 9 = 54  \n",
            "7 x 1 =  7  7 x 2 = 14  7 x 3 = 21  7 x 4 = 28  7 x 5 = 35  7 x 6 = 42  7 x 7 = 49  7 x 8 = 56  7 x 9 = 63  \n",
            "8 x 1 =  8  8 x 2 = 16  8 x 3 = 24  8 x 4 = 32  8 x 5 = 40  8 x 6 = 48  8 x 7 = 56  8 x 8 = 64  8 x 9 = 72  \n",
            "9 x 1 =  9  9 x 2 = 18  9 x 3 = 27  9 x 4 = 36  9 x 5 = 45  9 x 6 = 54  9 x 7 = 63  9 x 8 = 72  9 x 9 = 81  \n"
          ]
        }
      ]
    },
    {
      "cell_type": "code",
      "source": [
        "def print_multiplication_table(n):\n",
        "    for i in range(1, 10):\n",
        "        print(n, \"x\", i, \"=\", n*i, end=\"\\t\")\n",
        "    print()\n",
        "\n",
        "for i in range(2, 10):\n",
        "    print(\"***\", i, \"단 ***\")\n",
        "    print_multiplication_table(i)"
      ],
      "metadata": {
        "colab": {
          "base_uri": "https://localhost:8080/"
        },
        "id": "YFgIYxSDlumC",
        "outputId": "646ac1ad-ce3e-4b61-bf60-059cb67cc9de"
      },
      "execution_count": null,
      "outputs": [
        {
          "output_type": "stream",
          "name": "stdout",
          "text": [
            "*** 2 단 ***\n",
            "2 x 1 = 2\t2 x 2 = 4\t2 x 3 = 6\t2 x 4 = 8\t2 x 5 = 10\t2 x 6 = 12\t2 x 7 = 14\t2 x 8 = 16\t2 x 9 = 18\t\n",
            "*** 3 단 ***\n",
            "3 x 1 = 3\t3 x 2 = 6\t3 x 3 = 9\t3 x 4 = 12\t3 x 5 = 15\t3 x 6 = 18\t3 x 7 = 21\t3 x 8 = 24\t3 x 9 = 27\t\n",
            "*** 4 단 ***\n",
            "4 x 1 = 4\t4 x 2 = 8\t4 x 3 = 12\t4 x 4 = 16\t4 x 5 = 20\t4 x 6 = 24\t4 x 7 = 28\t4 x 8 = 32\t4 x 9 = 36\t\n",
            "*** 5 단 ***\n",
            "5 x 1 = 5\t5 x 2 = 10\t5 x 3 = 15\t5 x 4 = 20\t5 x 5 = 25\t5 x 6 = 30\t5 x 7 = 35\t5 x 8 = 40\t5 x 9 = 45\t\n",
            "*** 6 단 ***\n",
            "6 x 1 = 6\t6 x 2 = 12\t6 x 3 = 18\t6 x 4 = 24\t6 x 5 = 30\t6 x 6 = 36\t6 x 7 = 42\t6 x 8 = 48\t6 x 9 = 54\t\n",
            "*** 7 단 ***\n",
            "7 x 1 = 7\t7 x 2 = 14\t7 x 3 = 21\t7 x 4 = 28\t7 x 5 = 35\t7 x 6 = 42\t7 x 7 = 49\t7 x 8 = 56\t7 x 9 = 63\t\n",
            "*** 8 단 ***\n",
            "8 x 1 = 8\t8 x 2 = 16\t8 x 3 = 24\t8 x 4 = 32\t8 x 5 = 40\t8 x 6 = 48\t8 x 7 = 56\t8 x 8 = 64\t8 x 9 = 72\t\n",
            "*** 9 단 ***\n",
            "9 x 1 = 9\t9 x 2 = 18\t9 x 3 = 27\t9 x 4 = 36\t9 x 5 = 45\t9 x 6 = 54\t9 x 7 = 63\t9 x 8 = 72\t9 x 9 = 81\t\n"
          ]
        }
      ]
    },
    {
      "cell_type": "code",
      "source": [
        "# While \n",
        "\n",
        "# while  조건식:\n",
        "#   수행시킬 구문\n",
        "\n",
        "\n",
        "# while True:  # 조건에 True 따라서 무한 반복\n",
        "#   print(\"hi\")"
      ],
      "metadata": {
        "id": "xXUk5K_Mluuh"
      },
      "execution_count": null,
      "outputs": []
    },
    {
      "cell_type": "code",
      "source": [
        "i = 10\n",
        "while i > 5:\n",
        "  print('hi')\n",
        "  i -= 1  #  파이썬은 자바처럼 i++ 즉 증감연산자는 사용하지 않는다. i = i + 1"
      ],
      "metadata": {
        "colab": {
          "base_uri": "https://localhost:8080/"
        },
        "id": "gSlVLB4pmOfk",
        "outputId": "d998d6e9-30a2-4743-f311-614544079ea8"
      },
      "execution_count": null,
      "outputs": [
        {
          "output_type": "stream",
          "name": "stdout",
          "text": [
            "hi\n",
            "hi\n",
            "hi\n",
            "hi\n",
            "hi\n"
          ]
        }
      ]
    },
    {
      "cell_type": "code",
      "source": [
        "import random\n",
        "\n",
        "temp_no = 0\n",
        "while temp_no != 3: # 3이 나올때까지 반복하여 난수 발생\n",
        "  temp_no = random.randint(1,6) # 끝 숫자 6도 포함된다. 미만이 아닌 이하 \n",
        "\n",
        "  print(f'발생된 난수는 {temp_no}입니다.')"
      ],
      "metadata": {
        "colab": {
          "base_uri": "https://localhost:8080/"
        },
        "id": "4FHoJ3XJmREI",
        "outputId": "c26c1803-a0d0-4d58-ce29-51acf60de734"
      },
      "execution_count": null,
      "outputs": [
        {
          "output_type": "stream",
          "name": "stdout",
          "text": [
            "발생된 난수는 1입니다.\n",
            "발생된 난수는 5입니다.\n",
            "발생된 난수는 1입니다.\n",
            "발생된 난수는 6입니다.\n",
            "발생된 난수는 5입니다.\n",
            "발생된 난수는 2입니다.\n",
            "발생된 난수는 6입니다.\n",
            "발생된 난수는 5입니다.\n",
            "발생된 난수는 3입니다.\n"
          ]
        }
      ]
    },
    {
      "cell_type": "code",
      "source": [
        "# 난수 발생 정리\n",
        "\n",
        "\n",
        "import random  # random 모듈 임포트 후 사용\n",
        "\n",
        "random.random() # 0에서 1미만 실수 float 으로 생성"
      ],
      "metadata": {
        "colab": {
          "base_uri": "https://localhost:8080/"
        },
        "id": "UXyRMAKlp5W9",
        "outputId": "3733073e-f041-47ca-adbd-9525eff96a11"
      },
      "execution_count": null,
      "outputs": [
        {
          "output_type": "execute_result",
          "data": {
            "text/plain": [
              "0.2506425212555845"
            ]
          },
          "metadata": {},
          "execution_count": 39
        }
      ]
    },
    {
      "cell_type": "code",
      "source": [
        "random.randint(1,10) # 1에서 10이하 의 정수 하나 생"
      ],
      "metadata": {
        "id": "ZGyJbtOfp5Zh"
      },
      "execution_count": null,
      "outputs": []
    },
    {
      "cell_type": "code",
      "source": [
        "random.randrange(0,10, 2) # 0에서 10 미만 중 2의 배수로 난수 발생"
      ],
      "metadata": {
        "colab": {
          "base_uri": "https://localhost:8080/"
        },
        "id": "yNCXTFq7p5cI",
        "outputId": "644ae857-9c0a-4fe8-cd70-d749a13d3f4c"
      },
      "execution_count": null,
      "outputs": [
        {
          "output_type": "execute_result",
          "data": {
            "text/plain": [
              "0"
            ]
          },
          "metadata": {},
          "execution_count": 41
        }
      ]
    },
    {
      "cell_type": "code",
      "source": [
        "random.choice(['봄','여름','가을','겨울']) # 리스트의 값들 중 하나를 임의로 선택"
      ],
      "metadata": {
        "colab": {
          "base_uri": "https://localhost:8080/",
          "height": 35
        },
        "id": "Qimy7bsYp-YG",
        "outputId": "e71ad04f-9568-419c-d531-f9927a750dfc"
      },
      "execution_count": null,
      "outputs": [
        {
          "output_type": "execute_result",
          "data": {
            "text/plain": [
              "'여름'"
            ],
            "application/vnd.google.colaboratory.intrinsic+json": {
              "type": "string"
            }
          },
          "metadata": {},
          "execution_count": 40
        }
      ]
    },
    {
      "cell_type": "code",
      "source": [
        "random.sample(range(1,46), 6)  # range 범위 중 임의의 갯수 추출"
      ],
      "metadata": {
        "colab": {
          "base_uri": "https://localhost:8080/"
        },
        "id": "oeH5hNOEp-aS",
        "outputId": "4c842594-07e8-4b68-d6c8-fa2c78375284"
      },
      "execution_count": null,
      "outputs": [
        {
          "output_type": "execute_result",
          "data": {
            "text/plain": [
              "[42, 43, 16, 41, 13, 45]"
            ]
          },
          "metadata": {},
          "execution_count": 42
        }
      ]
    },
    {
      "cell_type": "code",
      "source": [
        "list1 = [1,2,3,4,5]\n",
        "\n",
        "random.shuffle(list1)\n",
        "\n",
        "print(list1)"
      ],
      "metadata": {
        "colab": {
          "base_uri": "https://localhost:8080/"
        },
        "id": "Zx8jfcW-qDrg",
        "outputId": "5395dd5f-312c-40d7-8e57-3b20cf71fa0c"
      },
      "execution_count": null,
      "outputs": [
        {
          "output_type": "stream",
          "name": "stdout",
          "text": [
            "[5, 3, 4, 2, 1]\n"
          ]
        }
      ]
    },
    {
      "cell_type": "code",
      "source": [
        "# break  강제로 while 문 빠져나가기 \n",
        "# continue continue 하단의 내용은 건너뛰고 다시 반복문으로 들어가기\n",
        "\n",
        "i = 0\n",
        "\n",
        "while i < 10:\n",
        "  i += 1\n",
        "  if i % 2 == 0: \n",
        "    print(i)"
      ],
      "metadata": {
        "colab": {
          "base_uri": "https://localhost:8080/"
        },
        "id": "ZBejNFhJspZu",
        "outputId": "26648f2e-6bc3-403e-8252-7276c5585313"
      },
      "execution_count": null,
      "outputs": [
        {
          "output_type": "stream",
          "name": "stdout",
          "text": [
            "2\n",
            "4\n",
            "6\n",
            "8\n",
            "10\n"
          ]
        }
      ]
    },
    {
      "cell_type": "code",
      "source": [
        "i = 0\n",
        "\n",
        "while i < 10:\n",
        "  i += 1\n",
        "  if i % 2 == 0: continue\n",
        "  print(i)"
      ],
      "metadata": {
        "colab": {
          "base_uri": "https://localhost:8080/"
        },
        "id": "mAZQJs1ZsvTq",
        "outputId": "c469bf4b-5af5-41dd-af60-ebd28dbf23b4"
      },
      "execution_count": null,
      "outputs": [
        {
          "output_type": "stream",
          "name": "stdout",
          "text": [
            "1\n",
            "3\n",
            "5\n",
            "7\n",
            "9\n"
          ]
        }
      ]
    },
    {
      "cell_type": "code",
      "source": [
        "i = 0\n",
        "\n",
        "while True:\n",
        "  i += 1\n",
        "  if i == 10: break\n",
        "  print(i)"
      ],
      "metadata": {
        "colab": {
          "base_uri": "https://localhost:8080/"
        },
        "id": "hakX-KWusxgy",
        "outputId": "82d5985c-e5bd-4e72-db6f-a7d1dbf2fe77"
      },
      "execution_count": null,
      "outputs": [
        {
          "output_type": "stream",
          "name": "stdout",
          "text": [
            "1\n",
            "2\n",
            "3\n",
            "4\n",
            "5\n",
            "6\n",
            "7\n",
            "8\n",
            "9\n"
          ]
        }
      ]
    }
  ]
}