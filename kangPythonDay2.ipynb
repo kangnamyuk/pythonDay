{
  "nbformat": 4,
  "nbformat_minor": 0,
  "metadata": {
    "colab": {
      "provenance": [],
      "authorship_tag": "ABX9TyMnCnPs1WFvTPtSI16SOKbG",
      "include_colab_link": true
    },
    "kernelspec": {
      "name": "python3",
      "display_name": "Python 3"
    },
    "language_info": {
      "name": "python"
    }
  },
  "cells": [
    {
      "cell_type": "markdown",
      "metadata": {
        "id": "view-in-github",
        "colab_type": "text"
      },
      "source": [
        "<a href=\"https://colab.research.google.com/github/kangnamyuk/pythonDay/blob/main/kangPythonDay2.ipynb\" target=\"_parent\"><img src=\"https://colab.research.google.com/assets/colab-badge.svg\" alt=\"Open In Colab\"/></a>"
      ]
    },
    {
      "cell_type": "code",
      "execution_count": null,
      "metadata": {
        "colab": {
          "base_uri": "https://localhost:8080/"
        },
        "id": "Xk-sHMWAgtU2",
        "outputId": "e38e1352-902c-477d-aef3-4908fe46b70f"
      },
      "outputs": [
        {
          "output_type": "execute_result",
          "data": {
            "text/plain": [
              "2"
            ]
          },
          "metadata": {},
          "execution_count": 1
        }
      ],
      "source": [
        "# 문자열 함수들(매서드들)\n",
        "\n",
        "# 문자 개수 세기 count\n",
        "\n",
        "a = \"school\"\n",
        "a.count('o')"
      ]
    },
    {
      "cell_type": "code",
      "source": [
        "# 위치 알아내기 (find) 만약 없는 문자를 찾는 경우 -1 출력\n",
        "\n",
        "a = \"school\"\n",
        "print(a.find('o'))\n",
        "print(a.find('z'))"
      ],
      "metadata": {
        "colab": {
          "base_uri": "https://localhost:8080/"
        },
        "id": "iAWAgT3YhbG4",
        "outputId": "383e6068-092e-49dd-ebee-1c0153dbd188"
      },
      "execution_count": null,
      "outputs": [
        {
          "output_type": "stream",
          "name": "stdout",
          "text": [
            "3\n",
            "-1\n"
          ]
        }
      ]
    },
    {
      "cell_type": "code",
      "source": [
        "# 위치 알아내기 (index) 만약 없는 문자를 찾는 경우 오류 출력\n",
        "\n",
        "a = \"school\"\n",
        "print(a.index('o'))\n",
        "#print(a.index('z'))"
      ],
      "metadata": {
        "colab": {
          "base_uri": "https://localhost:8080/"
        },
        "id": "YWm9h3yviQE4",
        "outputId": "7f6a0630-6941-4252-ca11-dc6d4c4b4028"
      },
      "execution_count": null,
      "outputs": [
        {
          "output_type": "stream",
          "name": "stdout",
          "text": [
            "3\n"
          ]
        }
      ]
    },
    {
      "cell_type": "code",
      "source": [
        "# 문자 삽입 join\n",
        "\n",
        "print(\" \".join(\"abcd\"))\n",
        "print(\",\".join(\"abcd\"))\n"
      ],
      "metadata": {
        "colab": {
          "base_uri": "https://localhost:8080/"
        },
        "id": "S74s5QgYimuI",
        "outputId": "eb81e6db-37ba-4816-88f6-52224447b176"
      },
      "execution_count": null,
      "outputs": [
        {
          "output_type": "stream",
          "name": "stdout",
          "text": [
            "a b c d\n",
            "a,b,c,d\n"
          ]
        }
      ]
    },
    {
      "cell_type": "code",
      "source": [
        "# 대문자로 바꾸기 upper\n",
        "\n",
        "a = 'Hello'\n",
        "\n",
        "a.upper()"
      ],
      "metadata": {
        "colab": {
          "base_uri": "https://localhost:8080/",
          "height": 35
        },
        "id": "AWDIs0rgiy5P",
        "outputId": "c656af67-11ab-4271-a9ca-8d228d2abb71"
      },
      "execution_count": null,
      "outputs": [
        {
          "output_type": "execute_result",
          "data": {
            "text/plain": [
              "'HELLO'"
            ],
            "application/vnd.google.colaboratory.intrinsic+json": {
              "type": "string"
            }
          },
          "metadata": {},
          "execution_count": 6
        }
      ]
    },
    {
      "cell_type": "code",
      "source": [
        "# 소문자로 바꾸기 lower\n",
        "\n",
        "a = 'Hello'\n",
        "\n",
        "a.lower()"
      ],
      "metadata": {
        "colab": {
          "base_uri": "https://localhost:8080/",
          "height": 35
        },
        "id": "Kqmx1GBEi9UP",
        "outputId": "45523efd-293b-4f10-89f1-2c5c43c5fc3f"
      },
      "execution_count": null,
      "outputs": [
        {
          "output_type": "execute_result",
          "data": {
            "text/plain": [
              "'hello'"
            ],
            "application/vnd.google.colaboratory.intrinsic+json": {
              "type": "string"
            }
          },
          "metadata": {},
          "execution_count": 7
        }
      ]
    },
    {
      "cell_type": "code",
      "source": [
        "# 공백 제거 왼쪽 lstrip\n",
        "a = ' Hello'\n",
        "a.lstrip()"
      ],
      "metadata": {
        "colab": {
          "base_uri": "https://localhost:8080/",
          "height": 35
        },
        "id": "3GIR6NDUjH-Q",
        "outputId": "59eb7798-6d35-4acd-93f9-a8b6286e07e7"
      },
      "execution_count": null,
      "outputs": [
        {
          "output_type": "execute_result",
          "data": {
            "text/plain": [
              "'Hello'"
            ],
            "application/vnd.google.colaboratory.intrinsic+json": {
              "type": "string"
            }
          },
          "metadata": {},
          "execution_count": 8
        }
      ]
    },
    {
      "cell_type": "code",
      "source": [
        "# 공백 제거 오른쪽 rstrip\n",
        "a = 'Hello '\n",
        "a.rstrip()"
      ],
      "metadata": {
        "colab": {
          "base_uri": "https://localhost:8080/",
          "height": 35
        },
        "id": "LflgfXMOjQ68",
        "outputId": "879bc5b2-10c2-498f-aff5-ecf88c567ac0"
      },
      "execution_count": null,
      "outputs": [
        {
          "output_type": "execute_result",
          "data": {
            "text/plain": [
              "'Hello'"
            ],
            "application/vnd.google.colaboratory.intrinsic+json": {
              "type": "string"
            }
          },
          "metadata": {},
          "execution_count": 10
        }
      ]
    },
    {
      "cell_type": "code",
      "source": [
        "# 공백 제거 오른쪽/왼쪽 strip\n",
        "a = ' Hello '\n",
        "a.strip()"
      ],
      "metadata": {
        "colab": {
          "base_uri": "https://localhost:8080/",
          "height": 35
        },
        "id": "Mi6a7srGjbZF",
        "outputId": "95342b0e-3caf-47f0-ae5e-3f1667222f78"
      },
      "execution_count": null,
      "outputs": [
        {
          "output_type": "execute_result",
          "data": {
            "text/plain": [
              "'Hello'"
            ],
            "application/vnd.google.colaboratory.intrinsic+json": {
              "type": "string"
            }
          },
          "metadata": {},
          "execution_count": 11
        }
      ]
    },
    {
      "cell_type": "code",
      "source": [
        "# 글자 바꾸기 replace\n",
        "\n",
        "a = 'I love you'\n",
        "a.replace('love', 'hate')"
      ],
      "metadata": {
        "colab": {
          "base_uri": "https://localhost:8080/",
          "height": 35
        },
        "id": "0ZGvNriSjh_V",
        "outputId": "8d26c9a3-6bd6-44c3-898e-20c1358d54db"
      },
      "execution_count": null,
      "outputs": [
        {
          "output_type": "execute_result",
          "data": {
            "text/plain": [
              "'I hate you'"
            ],
            "application/vnd.google.colaboratory.intrinsic+json": {
              "type": "string"
            }
          },
          "metadata": {},
          "execution_count": 12
        }
      ]
    },
    {
      "cell_type": "code",
      "source": [
        "# 문자열 나누기 split\n",
        "\n",
        "addr = \"서울시 강남구 서초동 1111\"\n",
        "print(addr.split()) # 생략하면 빈칸을 기준으로 분리한다.\n",
        "\n",
        "addr = \"서울시,강남구,서초동,1111\"\n",
        "print(addr.split(',')) # 생략하면 빈칸을 기준으로 분리한다.\n",
        "print(type(addr.split(',')))\n"
      ],
      "metadata": {
        "colab": {
          "base_uri": "https://localhost:8080/"
        },
        "id": "efu8oQsJjyBN",
        "outputId": "7049b3c3-0082-453b-f3ae-df72415dbfea"
      },
      "execution_count": null,
      "outputs": [
        {
          "output_type": "stream",
          "name": "stdout",
          "text": [
            "['서울시', '강남구', '서초동', '1111']\n",
            "['서울시', '강남구', '서초동', '1111']\n",
            "<class 'list'>\n"
          ]
        }
      ]
    },
    {
      "cell_type": "code",
      "source": [
        "# LIST, TUPLE, DICT, SET\n",
        "# 여러 데이터들의 묶음 Collection 컬렉션\n",
        "\n",
        "# LIST\n",
        "# [] 대괄호로 만든다.\n",
        "# indexing & slicing이 가능하다\n",
        "# ordered 순서가 있다.\n",
        "# mutable 수정 가능하다.\n",
        "\n",
        "\n",
        "a = []\n",
        "b = [1,2,3]\n",
        "c = ['a','b','c']\n",
        "d = [1,2,'a','b'] # <- d는 사용 가능하지만 안쓰는게 좋다 오류가 많이난다.\n",
        "\n",
        "print(b[0]) #인덱싱\n",
        "print(c[1:]) #슬라이싱\n",
        "print(d[-1]) #마지막 요소는 -1\n",
        "\n",
        "# a[0] =9 # a 리스트에는 아무 원소도 없어서 에러 발생\n",
        "b[0] = 9  # b 리스트는 원소가 있으므로 수정 가능\n",
        "print(b)\n",
        "\n",
        "print(c)\n",
        "del c[2] # 리스트는 삭제가 가능하다.\n",
        "print(c)\n",
        "\n",
        "print(a)\n",
        "a.append(0) # 리스트는 삽입이 가능하다.\n",
        "print(a)"
      ],
      "metadata": {
        "colab": {
          "base_uri": "https://localhost:8080/"
        },
        "id": "h6Z0vWrKks3G",
        "outputId": "589d89c2-029b-4b6d-ad62-bd9a92e93fb4"
      },
      "execution_count": null,
      "outputs": [
        {
          "output_type": "stream",
          "name": "stdout",
          "text": [
            "1\n",
            "['b', 'c']\n",
            "b\n",
            "[9, 2, 3]\n",
            "['a', 'b', 'c']\n",
            "['a', 'b']\n",
            "[]\n",
            "[0]\n"
          ]
        }
      ]
    },
    {
      "cell_type": "code",
      "source": [
        "# 리스트에서 많이 사용되는 함수 정리\n",
        "\n",
        "# 요소 추가 append 마지막에 요소 추가\n",
        "a.append(0)\n",
        "print(a)\n",
        "a.append('a')\n",
        "print(a)\n",
        "\n",
        "# 요소 추가 insert 특정 위치를 지정하여 맘대로 요소 추가\n",
        "d = [1,2,3]\n",
        "d.insert(0,4)\n",
        "\n",
        "# 정렬 sort\n",
        "a = [1,3,2,4]\n",
        "a.sort()\n",
        "print(a)\n",
        "\n",
        "# 뒤집기 reverse\n",
        "a.reverse()\n",
        "print(a)\n",
        "\n",
        "# 인덱스 index\n",
        "a.index(3)\n",
        "# a.index(5) 없는 요소는 에러 발생한다.\n",
        "\n",
        "\n",
        "\n"
      ],
      "metadata": {
        "colab": {
          "base_uri": "https://localhost:8080/"
        },
        "id": "HmaeLnD4yH_1",
        "outputId": "7805cda0-59c5-4da8-c396-500a98287ccd"
      },
      "execution_count": null,
      "outputs": [
        {
          "output_type": "stream",
          "name": "stdout",
          "text": [
            "[4, 3, 2, 1, 0]\n",
            "[4, 3, 2, 1, 0, 'a']\n",
            "[1, 2, 3, 4]\n",
            "[4, 3, 2, 1]\n"
          ]
        },
        {
          "output_type": "execute_result",
          "data": {
            "text/plain": [
              "1"
            ]
          },
          "metadata": {},
          "execution_count": 31
        }
      ]
    },
    {
      "cell_type": "code",
      "source": [
        "#삭제 remove 중복되는 수는 처음 등장하는 하나만 삭제한다.\n",
        "print()\n",
        "a = [1,2,3,3,5]\n",
        "a.remove(3)\n",
        "print(a)\n",
        "\n",
        "# 삭제 pop 리스트의 마지막 요소를 삭제한다.\n",
        "a = [1,2,3]\n",
        "a.pop() #괄호에 값이 없으면 마지막 요소를 하나 삭제\n",
        "print(a)\n",
        "\n",
        "a = [1,2,3]\n",
        "a.pop(0) # 괄호에 값이 있으면 그 요소를 삭제\n",
        "print(a)\n",
        "\n",
        "# 개수 세기 count 특정 요소의 갯수 세기\n",
        "\n",
        "a = [1,2,3,3]\n",
        "print(a.count(3))"
      ],
      "metadata": {
        "colab": {
          "base_uri": "https://localhost:8080/"
        },
        "id": "urn-5KU22_HM",
        "outputId": "b2d8d552-2d78-49e0-94d8-74e073216cbd"
      },
      "execution_count": null,
      "outputs": [
        {
          "output_type": "stream",
          "name": "stdout",
          "text": [
            "\n",
            "[1, 2, 3, 5]\n",
            "[1, 2]\n",
            "[2, 3]\n",
            "2\n"
          ]
        }
      ]
    },
    {
      "cell_type": "code",
      "source": [
        "# TUPLE\n",
        "# () 소괄호로 만든다.\n",
        "# immutable 수정이 불가능하다.\n",
        "# indexing & slicing 이 가능하다.\n",
        "# ordered 순서가 있다.\n",
        "# 한개의 요소로 tuple을 만들때는 (1,) 쉼표를 괜히 넣는다.\n",
        "\n",
        "a = ()\n",
        "b = (1,) # 한 개의 요소로 tuple을 만들때는 (1,) 쉼표를 괜히 넣는다.\n",
        "c = (1,2,3)\n",
        "d = (1,2,'a','b')\n",
        "\n",
        "# del d[0]    immutable 삭제가 불가능하다.\n",
        "# d[0] = 9    immutable 수정이 불가능하다.\n",
        "# d.append(5) immutable 삽입이 불가능하다.\n",
        "\n",
        "print(d[0])   # 인덱싱이 가능하다.\n",
        "print(d[0:2]) # 슬라이싱이 가능하다. 마지막은 미만으로 처리한다.\n",
        "\n",
        "print(len(d)) # 튜플 요소의 개수를 반환하는 함수"
      ],
      "metadata": {
        "colab": {
          "base_uri": "https://localhost:8080/"
        },
        "id": "Kx87j7Xvu4Is",
        "outputId": "32bf0672-dede-4373-f6f6-8ef560789f84"
      },
      "execution_count": null,
      "outputs": [
        {
          "output_type": "stream",
          "name": "stdout",
          "text": [
            "1\n",
            "(1, 2)\n",
            "4\n"
          ]
        }
      ]
    },
    {
      "cell_type": "code",
      "source": [
        "# DICT\n",
        "# {} 중괄호로 만든다.\n",
        "# mutable 수정 가능하다.\n",
        "# indexing & slicing 이 불가능하다.\n",
        "#  unordered 순서가 없다.\n",
        "# 키값과 밸류 값으로 데이터가 저장된다.\n",
        "\n",
        "# 세상의 많은 데이터가 키값:밸류값 형태로 표현된다. 이름:홍길동, 나이:20\n",
        "# 이러한 대응 관계를 파이썬에서 데이터를 저장하는 방식을 딕셔너리라고 한다.\n",
        "# 마치 JS의 JSON 과 상당히 유사한 공통점을 가지고 있다.\n",
        "\n",
        "a = {'이름':'홍길동', '나이':20}\n",
        "b = {'이름':'홍길동', '나이':20, '보유코인':['비트코인','에이다','이더리움']}\n",
        "\n",
        "a['키'] = 185   # dict 는 mutable 한 속성으로 삽입이 가능하다. \n",
        "print(a)\n",
        "del a['나이']   # dict 는 mutable 한 속성으로 삭제도 가능하다. \n",
        "print(a)\n",
        "a['키'] = 190   # dict 는 mutable 한 속성으로 수정도 가능하다. \n",
        "print(a)\n",
        "\n",
        "# a[0]          # dict 는 인덱싱이 불가능하다.\n",
        "a[0:2]          # dict 는 슬라이싱이 불가능하다."
      ],
      "metadata": {
        "colab": {
          "base_uri": "https://localhost:8080/"
        },
        "id": "gqxndGpmu4Qf",
        "outputId": "70bfe0d2-e496-46ca-a78d-421b8d463c75"
      },
      "execution_count": null,
      "outputs": [
        {
          "output_type": "stream",
          "name": "stdout",
          "text": [
            "{'이름': '홍길동', '나이': 20, '키': 185}\n",
            "{'이름': '홍길동', '키': 185}\n",
            "{'이름': '홍길동', '키': 190}\n"
          ]
        }
      ]
    },
    {
      "cell_type": "code",
      "source": [
        "# 딕셔너리에서 많이 사용되는 함수 정리\n",
        "# 딕셔너리에서 키값들만 추출\n",
        "\n",
        "a = {'이름':'홍길동', '나이':20, '보유코인':['비트코인','에이다','이더리움']}\n",
        "print(a.keys())\n",
        "\n",
        "# 딕셔너리에서 밸류값들만 추출\n",
        "print(a.values())\n",
        "\n",
        "# 쌍으로 추출  (튜플 쌍으로 추출)\n",
        "print(a.items())\n",
        "\n",
        "# 키값으로 밸류값 추출 \n",
        "print(a.get('이름'))\n",
        "print(a.get('몸무게'))  # 찾는 키값이 없을때 None 출력한다. \n",
        "\n",
        "# 키값으로 밸류값 추출 (인덱싱이 불가능하기 때문에 꺼낼때 많이 사용된다. )\n",
        "print(a['이름'])\n",
        "# print(a['몸무게'])      # 찾는 키값이 없을때 예외 발생된다. \n",
        "\n",
        "# 키가 딕셔너리안에 있는지 확인\n",
        "print('이름' in a)               # 찾는 키값이 있을때 true 반환\n",
        "print('몸무게' in a)             # 찾는 키값이 없을때 false 반환"
      ],
      "metadata": {
        "colab": {
          "base_uri": "https://localhost:8080/"
        },
        "id": "vd-Z03r686NI",
        "outputId": "3dc6345e-fb3c-4274-cbb3-464b2a62fd50"
      },
      "execution_count": null,
      "outputs": [
        {
          "output_type": "stream",
          "name": "stdout",
          "text": [
            "dict_keys(['이름', '나이', '보유코인'])\n",
            "dict_values(['홍길동', 20, ['비트코인', '에이다', '이더리움']])\n",
            "dict_items([('이름', '홍길동'), ('나이', 20), ('보유코인', ['비트코인', '에이다', '이더리움'])])\n",
            "홍길동\n",
            "None\n",
            "홍길동\n",
            "True\n",
            "False\n"
          ]
        }
      ]
    },
    {
      "cell_type": "code",
      "source": [
        "# SET\n",
        "# {} 중괄호로 만든다.\n",
        "# mutable 수정이 가능하다.\n",
        "# indexing & slicing 이 불가능하다.\n",
        "#  unordered 순서가 없다.\n",
        "# 중복데이터를 허용하지 않는다.\n",
        "\n",
        "\n",
        "# a = {}  # 딕셔너리와 셋은 동일하게 {} 를 사용한다. 따라서 빈 값으로 생성할때는 주의하자. \n",
        "a = set()\n",
        "b = {1,2,3}\n",
        "c = {1,2,'a','b'}\n",
        "d = {1,2,2,2,3,4,4}\n",
        "print(d)\n",
        "\n",
        "a.add(0)  # mutable 삽입 가능하다.\n",
        "print(a)\n",
        "print(c)\n",
        "c.remove(2)  # mutable 삭제 가능하다.\n",
        "print(c)"
      ],
      "metadata": {
        "colab": {
          "base_uri": "https://localhost:8080/"
        },
        "id": "gUvOR_j-u4Yg",
        "outputId": "b29e2749-bed0-4189-d01f-1964604a6a1b"
      },
      "execution_count": null,
      "outputs": [
        {
          "output_type": "stream",
          "name": "stdout",
          "text": [
            "{1, 2, 3, 4}\n",
            "{0}\n",
            "{'b', 1, 2, 'a'}\n",
            "{'b', 1, 'a'}\n"
          ]
        }
      ]
    },
    {
      "cell_type": "code",
      "source": [
        "# 불 Bool 자료형 boolean\n",
        "\n",
        "# 반드시 대문자로 시작한다. \n",
        "\n",
        "a = True\n",
        "b = False\n",
        "c = \"true\"\n",
        "\n",
        "print(type(a))\n",
        "print(type(c))\n",
        "\n",
        "print(1 == 1)\n",
        "print(1 != 1)"
      ],
      "metadata": {
        "colab": {
          "base_uri": "https://localhost:8080/"
        },
        "id": "0lphr6BFFQyB",
        "outputId": "b756cc8c-8841-4aab-de51-426788e7c955"
      },
      "execution_count": null,
      "outputs": [
        {
          "output_type": "stream",
          "name": "stdout",
          "text": [
            "<class 'bool'>\n",
            "<class 'str'>\n",
            "True\n",
            "False\n"
          ]
        }
      ]
    },
    {
      "cell_type": "code",
      "source": [
        "# 키보드로 입력 받기 \n",
        "\n",
        "a = input()\n",
        "print(a)"
      ],
      "metadata": {
        "colab": {
          "base_uri": "https://localhost:8080/"
        },
        "id": "zwkbuciOFYLW",
        "outputId": "5c770c03-1abf-4f2a-d069-e6c3b00c6244"
      },
      "execution_count": null,
      "outputs": [
        {
          "output_type": "stream",
          "name": "stdout",
          "text": [
            "하이\n",
            "하이\n"
          ]
        }
      ]
    },
    {
      "cell_type": "code",
      "source": [
        "a = input(\"지금이 오후인가요?\")\n",
        "print(a)"
      ],
      "metadata": {
        "colab": {
          "base_uri": "https://localhost:8080/"
        },
        "id": "ER-btFr1FdNA",
        "outputId": "13dd49fd-2dff-427c-f820-3787cdf73ef4"
      },
      "execution_count": null,
      "outputs": [
        {
          "output_type": "stream",
          "name": "stdout",
          "text": [
            "지금이 오후인가요?네네\n",
            "네네\n"
          ]
        }
      ]
    },
    {
      "cell_type": "code",
      "source": [
        "# 파이썬에서 input은 항상 먼저 문자 취급한다.\n",
        "\n",
        "# a = input(\"지금이 몇시예요\")\n",
        "# print(a+1)\n",
        "\n",
        "a = int(input(\"지금부터 한시간 뒤는 몇시인가요\"))\n",
        "print(a+1)"
      ],
      "metadata": {
        "colab": {
          "base_uri": "https://localhost:8080/"
        },
        "id": "i2VxFAmIFh25",
        "outputId": "781f0430-4815-4063-f497-c54c595eb9cd"
      },
      "execution_count": null,
      "outputs": [
        {
          "output_type": "stream",
          "name": "stdout",
          "text": [
            "지금이 몇시예요2\n",
            "3\n"
          ]
        }
      ]
    },
    {
      "cell_type": "code",
      "source": [
        "#노션에 있는 69번퀴즈 답\n",
        "\n",
        "country_tuple = (\"France\",\"England\",\"Spain\",\"Germany\",\"Australia\")\n",
        "print(country_tuple)\n",
        "country = input(\"Please enter one of the countries from above: \")\n",
        "print(country, \"has index number\",country_tuple.index(country))"
      ],
      "metadata": {
        "colab": {
          "base_uri": "https://localhost:8080/"
        },
        "id": "OykHz_k7ID68",
        "outputId": "02c43984-bf7b-4381-da7f-455f08262c88"
      },
      "execution_count": null,
      "outputs": [
        {
          "output_type": "stream",
          "name": "stdout",
          "text": [
            "('France', 'England', 'Spain', 'Germany', 'Australia')\n",
            "Please enter one of the countries from above: Germany\n",
            "Germany has index number 3\n"
          ]
        }
      ]
    },
    {
      "cell_type": "code",
      "source": [
        "#노션에 있는 71번퀴즈 답\n",
        "\n",
        "sports_list = [\"tennis\",\"football\"]\n",
        "sports_list.append(input(\"What is your favorite sport? \"))\n",
        "sports_list.sort()\n",
        "print(sports_list)"
      ],
      "metadata": {
        "colab": {
          "base_uri": "https://localhost:8080/"
        },
        "id": "rvPt947kI2m7",
        "outputId": "15424d6a-010b-49d6-b232-1f409e083d8d"
      },
      "execution_count": null,
      "outputs": [
        {
          "output_type": "stream",
          "name": "stdout",
          "text": [
            "What is your favorite sport? basketball\n",
            "['basketball', 'football', 'tennis']\n"
          ]
        }
      ]
    },
    {
      "cell_type": "code",
      "source": [
        "#노션에 있는 72번퀴즈 답\n",
        "subject_list = [\"maths\",\"english\",\"computing\",\"history\",\"science\",\"spanish\"]\n",
        "print(subject_list)\n",
        "dislike = input(\"which of these subjects do you dislike? \")\n",
        "getrid = subject_list.index(dislike)\n",
        "del subject_list[getrid]\n",
        "print(subject_list)"
      ],
      "metadata": {
        "colab": {
          "base_uri": "https://localhost:8080/"
        },
        "id": "0ZXNMEsDJ-MO",
        "outputId": "63185cd7-52e8-4de6-b0d9-2c707ee529de"
      },
      "execution_count": null,
      "outputs": [
        {
          "output_type": "stream",
          "name": "stdout",
          "text": [
            "['maths', 'english', 'computing', 'history', 'science', 'spanish']\n",
            "which of these subjects do you dislike? spanish\n",
            "['maths', 'english', 'computing', 'history', 'science']\n"
          ]
        }
      ]
    },
    {
      "cell_type": "code",
      "source": [
        "#노션에 있는 73번퀴즈 답\n",
        "\n",
        "food_dictionary = {}\n",
        "food1 = input(\"Enter a food you like: \")\n",
        "\n",
        "food_dictionary[1] = food1\n",
        "food2 = input(\"Enter another food you like: \")\n",
        "\n",
        "food_dictionary[2] = food2\n",
        "food3 = input(\"Enter another food you like: \")\n",
        "\n",
        "food_dictionary[3] = food3\n",
        "food4 = input(\"Enter another food you like: \")\n",
        "\n",
        "food_dictionary[4] = food4\n",
        "print(food_dictionary)\n",
        "\n",
        "dislike = int(input(\"Which of these do you want to get rid of? \"))\n",
        "del food_dictionary[dislike]\n",
        "print(sorted(food_dictionary.values()))"
      ],
      "metadata": {
        "colab": {
          "base_uri": "https://localhost:8080/"
        },
        "id": "JZw0jUTZK9rg",
        "outputId": "c43b3d6c-309a-44b4-ad36-24fa881f799a"
      },
      "execution_count": null,
      "outputs": [
        {
          "output_type": "stream",
          "name": "stdout",
          "text": [
            "Enter a food you like: ice\n",
            "Enter another food you like: cream\n",
            "Enter another food you like: pizza\n",
            "Enter another food you like: chicken\n",
            "{1: 'ice', 2: 'cream', 3: 'pizza', 4: 'chicken'}\n",
            "Which of these do you want to get rid of? 4\n",
            "['cream', 'ice', 'pizza']\n"
          ]
        }
      ]
    },
    {
      "cell_type": "code",
      "source": [
        "#노션에 있는 74번퀴즈 답\n",
        "\n",
        "colors = [\"red\",\"blue\",\"green\",\"black\",\"white\",\"pink\",\"grey\",\"purple\",\"yellow\",\"brown\"]\n",
        "start = int(input(\"Enter a starting number (0-4): \"))\n",
        "end = int(input(\"Enter an end number (5-9): \"))\n",
        "print(colors[start:end])\n",
        "\n",
        "\n"
      ],
      "metadata": {
        "colab": {
          "base_uri": "https://localhost:8080/"
        },
        "id": "xR1DN1e6P2FN",
        "outputId": "73203648-391d-4c97-fc78-be9c85ddc6af"
      },
      "execution_count": null,
      "outputs": [
        {
          "output_type": "stream",
          "name": "stdout",
          "text": [
            "Enter a starting number (0-4): 2\n",
            "Enter an end number (5-9): 5\n",
            "['green', 'black', 'white']\n"
          ]
        }
      ]
    }
  ]
}